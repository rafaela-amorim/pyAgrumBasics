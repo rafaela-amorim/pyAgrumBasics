{
 "cells": [
  {
   "cell_type": "code",
   "execution_count": 1,
   "metadata": {},
   "outputs": [
    {
     "data": {
      "text/html": [
       "<svg height=\"260pt\" viewBox=\"0.00 0.00 90.00 260.00\" width=\"90pt\" xmlns=\"http://www.w3.org/2000/svg\" xmlns:xlink=\"http://www.w3.org/1999/xlink\">\n",
       "<g class=\"graph\" id=\"graph0\" transform=\"scale(1 1) rotate(0) translate(4 256)\">\n",
       "<title>G</title>\n",
       "<!-- t -->\n",
       "<g class=\"node\" id=\"node1\">\n",
       "<title>t</title>\n",
       "<g id=\"a_node1\"><a xlink:title=\"(0) t\">\n",
       "<ellipse cx=\"55\" cy=\"-90\" fill=\"#404040\" rx=\"27\" ry=\"18\" stroke=\"#000000\"/>\n",
       "<text fill=\"#ffffff\" font-family=\"Times,serif\" font-size=\"14.00\" text-anchor=\"middle\" x=\"55\" y=\"-86.3\">t</text>\n",
       "</a>\n",
       "</g>\n",
       "</g>\n",
       "<!-- c -->\n",
       "<g class=\"node\" id=\"node2\">\n",
       "<title>c</title>\n",
       "<g id=\"a_node2\"><a xlink:title=\"(1) c\">\n",
       "<ellipse cx=\"27\" cy=\"-18\" fill=\"#404040\" rx=\"27\" ry=\"18\" stroke=\"#000000\"/>\n",
       "<text fill=\"#ffffff\" font-family=\"Times,serif\" font-size=\"14.00\" text-anchor=\"middle\" x=\"27\" y=\"-14.3\">c</text>\n",
       "</a>\n",
       "</g>\n",
       "</g>\n",
       "<!-- t&#45;&gt;c -->\n",
       "<g class=\"edge\" id=\"edge1\">\n",
       "<title>t-&gt;c</title>\n",
       "<g id=\"a_edge1\"><a xlink:title=\"(0, 1) : \">\n",
       "<path d=\"M48.222,-72.5708C45.0128,-64.3187 41.1065,-54.2738 37.5242,-45.0623\" fill=\"none\" stroke=\"#4a4a4a\"/>\n",
       "<polygon fill=\"#4a4a4a\" points=\"40.6992,-43.5697 33.8126,-35.5182 34.1752,-46.1069 40.6992,-43.5697\" stroke=\"#4a4a4a\"/>\n",
       "</a>\n",
       "</g>\n",
       "</g>\n",
       "<!-- g -->\n",
       "<g class=\"node\" id=\"node3\">\n",
       "<title>g</title>\n",
       "<g id=\"a_node3\"><a xlink:title=\"(2) g\">\n",
       "<ellipse cx=\"27\" cy=\"-234\" fill=\"#404040\" rx=\"27\" ry=\"18\" stroke=\"#000000\"/>\n",
       "<text fill=\"#ffffff\" font-family=\"Times,serif\" font-size=\"14.00\" text-anchor=\"middle\" x=\"27\" y=\"-230.3\">g</text>\n",
       "</a>\n",
       "</g>\n",
       "</g>\n",
       "<!-- g&#45;&gt;c -->\n",
       "<g class=\"edge\" id=\"edge4\">\n",
       "<title>g-&gt;c</title>\n",
       "<g id=\"a_edge4\"><a xlink:title=\"(2, 1) : \">\n",
       "<path d=\"M23.6685,-216.0736C21.8913,-205.5982 19.8913,-192.0982 19,-180 15.4733,-132.1297 15.4733,-119.8703 19,-72 19.6267,-63.4935 20.8015,-54.2939 22.0616,-45.9399\" fill=\"none\" stroke=\"#4a4a4a\"/>\n",
       "<polygon fill=\"#4a4a4a\" points=\"25.5398,-46.3546 23.6685,-35.9264 18.6282,-45.2455 25.5398,-46.3546\" stroke=\"#4a4a4a\"/>\n",
       "</a>\n",
       "</g>\n",
       "</g>\n",
       "<!-- s -->\n",
       "<g class=\"node\" id=\"node4\">\n",
       "<title>s</title>\n",
       "<g id=\"a_node4\"><a xlink:title=\"(3) s\">\n",
       "<ellipse cx=\"55\" cy=\"-162\" fill=\"#404040\" rx=\"27\" ry=\"18\" stroke=\"#000000\"/>\n",
       "<text fill=\"#ffffff\" font-family=\"Times,serif\" font-size=\"14.00\" text-anchor=\"middle\" x=\"55\" y=\"-158.3\">s</text>\n",
       "</a>\n",
       "</g>\n",
       "</g>\n",
       "<!-- g&#45;&gt;s -->\n",
       "<g class=\"edge\" id=\"edge3\">\n",
       "<title>g-&gt;s</title>\n",
       "<g id=\"a_edge3\"><a xlink:title=\"(2, 3) : \">\n",
       "<path d=\"M33.778,-216.5708C36.9872,-208.3187 40.8935,-198.2738 44.4758,-189.0623\" fill=\"none\" stroke=\"#4a4a4a\"/>\n",
       "<polygon fill=\"#4a4a4a\" points=\"47.8248,-190.1069 48.1874,-179.5182 41.3008,-187.5697 47.8248,-190.1069\" stroke=\"#4a4a4a\"/>\n",
       "</a>\n",
       "</g>\n",
       "</g>\n",
       "<!-- s&#45;&gt;t -->\n",
       "<g class=\"edge\" id=\"edge2\">\n",
       "<title>s-&gt;t</title>\n",
       "<g id=\"a_edge2\"><a xlink:title=\"(3, 0) : \">\n",
       "<path d=\"M55,-143.8314C55,-136.131 55,-126.9743 55,-118.4166\" fill=\"none\" stroke=\"#4a4a4a\"/>\n",
       "<polygon fill=\"#4a4a4a\" points=\"58.5001,-118.4132 55,-108.4133 51.5001,-118.4133 58.5001,-118.4132\" stroke=\"#4a4a4a\"/>\n",
       "</a>\n",
       "</g>\n",
       "</g>\n",
       "</g>\n",
       "</svg>"
      ],
      "text/plain": [
       "(gum::BayesNet<double>@0x55d2a6695f90) BN{nodes: 4, arcs: 4, domainSize: 16, dim: 18}"
      ]
     },
     "execution_count": 1,
     "metadata": {},
     "output_type": "execute_result"
    }
   ],
   "source": [
    "# example from the book -- page 66 - 68\n",
    "\n",
    "from IPython.display import display, Math, Latex, HTML\n",
    "\n",
    "import pyAgrum as gum\n",
    "import pyAgrum.lib.notebook as gnb\n",
    "import pyAgrum.causal as csl\n",
    "import pyAgrum.causal.notebook as cslnb\n",
    "\n",
    "# Smoking causes cancer?\n",
    "\n",
    "bn = gum.fastBN(\"t->c<-g->s;s->t\")\n",
    "\n",
    "# conditional probabilities table\n",
    "bn.cpt('s')[:] = [0.5, 0.5]\n",
    "\n",
    "bn.cpt('t')[{'s':0}] = [380/400, 20/400]\n",
    "bn.cpt('t')[{'s':1}] = [20/400, 380/400]\n",
    "\n",
    "bn.cpt('c')[{'s':0, 't':0}] = [38/380, 342/380]\n",
    "bn.cpt('c')[{'s':0, 't':1}] = [1/20, 19/20]\n",
    "bn.cpt('c')[{'s':1, 't':0}] = [18/20, 2/20]\n",
    "bn.cpt('c')[{'s':1, 't':1}] = [323/380, 57/380]\n",
    "\n",
    "bn"
   ]
  },
  {
   "cell_type": "code",
   "execution_count": 2,
   "metadata": {},
   "outputs": [
    {
     "name": "stdout",
     "output_type": "stream",
     "text": [
      "BN{nodes: 4, arcs: 4, domainSize: 16, dim: 18}\n"
     ]
    }
   ],
   "source": [
    "print(bn)"
   ]
  },
  {
   "cell_type": "code",
   "execution_count": 3,
   "metadata": {},
   "outputs": [
    {
     "data": {
      "text/plain": [
       "<bound method BayesNet.cpt of (gum::BayesNet<double>@0x55d2a6695f90) BN{nodes: 4, arcs: 4, domainSize: 16, dim: 18}>"
      ]
     },
     "execution_count": 3,
     "metadata": {},
     "output_type": "execute_result"
    }
   ],
   "source": [
    "bn.cpt"
   ]
  },
  {
   "cell_type": "code",
   "execution_count": 4,
   "metadata": {},
   "outputs": [
    {
     "name": "stdout",
     "output_type": "stream",
     "text": [
      "<bound method BayesNet.cpt of (gum::BayesNet<double>@0x55d2a6695f90) BN{nodes: 4, arcs: 4, domainSize: 16, dim: 18}>\n"
     ]
    }
   ],
   "source": [
    "print(bn.cpt)"
   ]
  },
  {
   "cell_type": "code",
   "execution_count": 5,
   "metadata": {},
   "outputs": [
    {
     "data": {
      "text/html": [
       "<table style=\"border:1px solid black;\">\n",
       "<tr><th colspan='2'></th><th colspan='2' style='border:1px solid black;color:black;background-color:#808080;'><center>c</center></th></tr>\n",
       "<tr><th style='border:1px solid black;color:black;background-color:#808080'><center>g</center></th><th style='border:1px solid black;color:black;background-color:#808080'><center>t</center></th><th style='border:1px solid black;border-bottom-style: double;color:black;background-color:#BBBBBB'><center>0</center></th><th style='border:1px solid black;border-bottom-style: double;color:black;background-color:#BBBBBB'><center>1</center></th></tr>\n",
       "<tr><th style='border:1px solid black;color:black;background-color:#BBBBBB;' rowspan = '2'><center>0</center></th><th style='border:1px solid black;color:black;background-color:#BBBBBB'><center>0</center></th><td style='color:black;background-color:#8bf264;text-align:right;'>0.9000</td><td style='color:black;background-color:#f28b64;text-align:right;'>0.1000</td></tr>\n",
       "<tr><th style='border:1px solid black;color:black;background-color:#BBBBBB'><center>1</center></th><td style='color:black;background-color:#92eb64;text-align:right;'>0.8500</td><td style='color:black;background-color:#eb9264;text-align:right;'>0.1500</td></tr>\n",
       "<tr><th style='border:1px solid black;color:black;background-color:#BBBBBB;' rowspan = '2'><center>1</center></th><th style='border:1px solid black;color:black;background-color:#BBBBBB'><center>0</center></th><td style='color:black;background-color:#8bf264;text-align:right;'>0.9000</td><td style='color:black;background-color:#f28b64;text-align:right;'>0.1000</td></tr>\n",
       "<tr><th style='border:1px solid black;color:black;background-color:#BBBBBB'><center>1</center></th><td style='color:black;background-color:#92eb64;text-align:right;'>0.8500</td><td style='color:black;background-color:#eb9264;text-align:right;'>0.1500</td></tr>\n",
       "</table>"
      ],
      "text/plain": [
       "(gum::Potential<double>@0x55d2a5fd62e0) <c:0|t:0|g:0> :: 0.9 /<c:1|t:0|g:0> :: 0.1 /<c:0|t:1|g:0> :: 0.85 /<c:1|t:1|g:0> :: 0.15 /<c:0|t:0|g:1> :: 0.9 /<c:1|t:0|g:1> :: 0.1 /<c:0|t:1|g:1> :: 0.85 /<c:1|t:1|g:1> :: 0.15"
      ]
     },
     "execution_count": 5,
     "metadata": {},
     "output_type": "execute_result"
    }
   ],
   "source": [
    "bn.cpt('c')"
   ]
  },
  {
   "cell_type": "code",
   "execution_count": 6,
   "metadata": {},
   "outputs": [
    {
     "ename": "DuplicateLabel",
     "evalue": "[pyAgrum] Duplicate label: Unable to insert var with the name 'g'.",
     "output_type": "error",
     "traceback": [
      "\u001b[0;31m---------------------------------------------------------------------------\u001b[0m",
      "\u001b[0;31mDuplicateLabel\u001b[0m                            Traceback (most recent call last)",
      "\u001b[0;32m<ipython-input-6-d5b82f647b1c>\u001b[0m in \u001b[0;36m<module>\u001b[0;34m\u001b[0m\n\u001b[1;32m     28\u001b[0m \u001b[0;31m# Causal Model\u001b[0m\u001b[0;34m\u001b[0m\u001b[0;34m\u001b[0m\u001b[0;34m\u001b[0m\u001b[0m\n\u001b[1;32m     29\u001b[0m \u001b[0;34m\u001b[0m\u001b[0m\n\u001b[0;32m---> 30\u001b[0;31m \u001b[0md\u001b[0m \u001b[0;34m=\u001b[0m \u001b[0mcsl\u001b[0m\u001b[0;34m.\u001b[0m\u001b[0mCausalModel\u001b[0m\u001b[0;34m(\u001b[0m\u001b[0mbn\u001b[0m\u001b[0;34m,\u001b[0m \u001b[0;34m[\u001b[0m\u001b[0;34m(\u001b[0m\u001b[0;34m'g'\u001b[0m\u001b[0;34m,\u001b[0m \u001b[0;34m[\u001b[0m\u001b[0;34m's'\u001b[0m\u001b[0;34m,\u001b[0m \u001b[0;34m'c'\u001b[0m\u001b[0;34m]\u001b[0m\u001b[0;34m)\u001b[0m\u001b[0;34m]\u001b[0m\u001b[0;34m)\u001b[0m\u001b[0;34m\u001b[0m\u001b[0;34m\u001b[0m\u001b[0m\n\u001b[0m",
      "\u001b[0;32m~/anaconda3/lib/python3.7/site-packages/pyAgrum/causal/_CausalModel.py\u001b[0m in \u001b[0;36m__init__\u001b[0;34m(self, bn, latentVarsDescriptor, keepArcs)\u001b[0m\n\u001b[1;32m     68\u001b[0m \u001b[0;34m\u001b[0m\u001b[0m\n\u001b[1;32m     69\u001b[0m     \u001b[0;32mfor\u001b[0m \u001b[0mn\u001b[0m\u001b[0;34m,\u001b[0m \u001b[0mls\u001b[0m \u001b[0;32min\u001b[0m \u001b[0mlatentVarsDescriptor\u001b[0m\u001b[0;34m:\u001b[0m\u001b[0;34m\u001b[0m\u001b[0;34m\u001b[0m\u001b[0m\n\u001b[0;32m---> 70\u001b[0;31m       \u001b[0mself\u001b[0m\u001b[0;34m.\u001b[0m\u001b[0maddLatentVariable\u001b[0m\u001b[0;34m(\u001b[0m\u001b[0mn\u001b[0m\u001b[0;34m,\u001b[0m \u001b[0mls\u001b[0m\u001b[0;34m,\u001b[0m \u001b[0mkeepArcs\u001b[0m\u001b[0;34m)\u001b[0m\u001b[0;34m\u001b[0m\u001b[0;34m\u001b[0m\u001b[0m\n\u001b[0m\u001b[1;32m     71\u001b[0m \u001b[0;34m\u001b[0m\u001b[0m\n\u001b[1;32m     72\u001b[0m     self.__names = {nId: self.__causalBN.variable(\n",
      "\u001b[0;32m~/anaconda3/lib/python3.7/site-packages/pyAgrum/causal/_CausalModel.py\u001b[0m in \u001b[0;36maddLatentVariable\u001b[0;34m(self, name, ls, keepArcs)\u001b[0m\n\u001b[1;32m     80\u001b[0m   \u001b[0;32mdef\u001b[0m \u001b[0maddLatentVariable\u001b[0m\u001b[0;34m(\u001b[0m\u001b[0mself\u001b[0m\u001b[0;34m,\u001b[0m \u001b[0mname\u001b[0m\u001b[0;34m:\u001b[0m \u001b[0mstr\u001b[0m\u001b[0;34m,\u001b[0m \u001b[0mls\u001b[0m\u001b[0;34m:\u001b[0m \u001b[0mTuple\u001b[0m\u001b[0;34m[\u001b[0m\u001b[0mstr\u001b[0m\u001b[0;34m,\u001b[0m \u001b[0mstr\u001b[0m\u001b[0;34m]\u001b[0m\u001b[0;34m,\u001b[0m \u001b[0mkeepArcs\u001b[0m\u001b[0;34m:\u001b[0m \u001b[0mbool\u001b[0m\u001b[0;34m)\u001b[0m\u001b[0;34m:\u001b[0m\u001b[0;34m\u001b[0m\u001b[0;34m\u001b[0m\u001b[0m\n\u001b[1;32m     81\u001b[0m     \u001b[0;31m# simplest variable to add : only 2 modalities for latent variables\u001b[0m\u001b[0;34m\u001b[0m\u001b[0;34m\u001b[0m\u001b[0;34m\u001b[0m\u001b[0m\n\u001b[0;32m---> 82\u001b[0;31m     \u001b[0mid_latent\u001b[0m \u001b[0;34m=\u001b[0m \u001b[0mself\u001b[0m\u001b[0;34m.\u001b[0m\u001b[0m__causalBN\u001b[0m\u001b[0;34m.\u001b[0m\u001b[0madd\u001b[0m\u001b[0;34m(\u001b[0m\u001b[0mname\u001b[0m\u001b[0;34m,\u001b[0m \u001b[0;36m2\u001b[0m\u001b[0;34m)\u001b[0m\u001b[0;34m\u001b[0m\u001b[0;34m\u001b[0m\u001b[0m\n\u001b[0m\u001b[1;32m     83\u001b[0m     \u001b[0mself\u001b[0m\u001b[0;34m.\u001b[0m\u001b[0m__lat\u001b[0m\u001b[0;34m.\u001b[0m\u001b[0madd\u001b[0m\u001b[0;34m(\u001b[0m\u001b[0mid_latent\u001b[0m\u001b[0;34m)\u001b[0m\u001b[0;34m\u001b[0m\u001b[0;34m\u001b[0m\u001b[0m\n\u001b[1;32m     84\u001b[0m \u001b[0;34m\u001b[0m\u001b[0m\n",
      "\u001b[0;32m~/anaconda3/lib/python3.7/site-packages/pyAgrum/pyAgrum.py\u001b[0m in \u001b[0;36madd\u001b[0;34m(self, *args)\u001b[0m\n\u001b[1;32m   9526\u001b[0m \u001b[0;34m\u001b[0m\u001b[0m\n\u001b[1;32m   9527\u001b[0m         \"\"\"\n\u001b[0;32m-> 9528\u001b[0;31m         \u001b[0;32mreturn\u001b[0m \u001b[0m_pyAgrum\u001b[0m\u001b[0;34m.\u001b[0m\u001b[0mBayesNet_add\u001b[0m\u001b[0;34m(\u001b[0m\u001b[0mself\u001b[0m\u001b[0;34m,\u001b[0m \u001b[0;34m*\u001b[0m\u001b[0margs\u001b[0m\u001b[0;34m)\u001b[0m\u001b[0;34m\u001b[0m\u001b[0;34m\u001b[0m\u001b[0m\n\u001b[0m\u001b[1;32m   9529\u001b[0m \u001b[0;34m\u001b[0m\u001b[0m\n\u001b[1;32m   9530\u001b[0m     \u001b[0;32mdef\u001b[0m \u001b[0merase\u001b[0m\u001b[0;34m(\u001b[0m\u001b[0mself\u001b[0m\u001b[0;34m,\u001b[0m \u001b[0;34m*\u001b[0m\u001b[0margs\u001b[0m\u001b[0;34m)\u001b[0m \u001b[0;34m->\u001b[0m \u001b[0;34m\"void\"\u001b[0m\u001b[0;34m:\u001b[0m\u001b[0;34m\u001b[0m\u001b[0;34m\u001b[0m\u001b[0m\n",
      "\u001b[0;31mDuplicateLabel\u001b[0m: [pyAgrum] Duplicate label: Unable to insert var with the name 'g'."
     ]
    }
   ],
   "source": [
    "# example from the book -- page 66 - 68\n",
    "\n",
    "from IPython.display import display, Math, Latex, HTML\n",
    "\n",
    "import pyAgrum as gum\n",
    "import pyAgrum.lib.notebook as gnb\n",
    "import pyAgrum.causal as csl\n",
    "import pyAgrum.causal.notebook as cslnb\n",
    "\n",
    "# Smoking causes cancer?\n",
    "\n",
    "bn = gum.fastBN(\"t->c<-g->s;s->t\")\n",
    "\n",
    "# conditional probabilities table\n",
    "bn.cpt('s')[:] = [0.5, 0.5]\n",
    "\n",
    "bn.cpt('t')[{'s':0}] = [380/400, 20/400]\n",
    "bn.cpt('t')[{'s':1}] = [20/400, 380/400]\n",
    "\n",
    "bn.cpt('c')[{'s':0, 't':0}] = [38/380, 342/380]\n",
    "bn.cpt('c')[{'s':0, 't':1}] = [1/20, 19/20]\n",
    "bn.cpt('c')[{'s':1, 't':0}] = [18/20, 2/20]\n",
    "bn.cpt('c')[{'s':1, 't':1}] = [323/380, 57/380]\n",
    "\n",
    "# bn\n",
    "# bn.cpt('c')\n",
    "\n",
    "# Causal Model\n",
    "\n",
    "d = csl.CausalModel(bn, [('g', ['s', 'c'])])"
   ]
  },
  {
   "cell_type": "code",
   "execution_count": 7,
   "metadata": {},
   "outputs": [],
   "source": [
    "# example from the book -- page 66 - 68\n",
    "\n",
    "from IPython.display import display, Math, Latex, HTML\n",
    "\n",
    "import pyAgrum as gum\n",
    "import pyAgrum.lib.notebook as gnb\n",
    "import pyAgrum.causal as csl\n",
    "import pyAgrum.causal.notebook as cslnb\n",
    "\n",
    "# Smoking causes cancer?\n",
    "\n",
    "bn = gum.fastBN(\"s->t->c\")\n",
    "\n",
    "# conditional probabilities table\n",
    "bn.cpt('s')[:] = [0.5, 0.5]\n",
    "\n",
    "bn.cpt('t')[{'s':0}] = [380/400, 20/400]\n",
    "bn.cpt('t')[{'s':1}] = [20/400, 380/400]\n",
    "\n",
    "bn.cpt('c')[{'s':0, 't':0}] = [38/380, 342/380]\n",
    "bn.cpt('c')[{'s':0, 't':1}] = [1/20, 19/20]\n",
    "bn.cpt('c')[{'s':1, 't':0}] = [18/20, 2/20]\n",
    "bn.cpt('c')[{'s':1, 't':1}] = [323/380, 57/380]\n",
    "\n",
    "# bn\n",
    "# bn.cpt('c')\n",
    "\n",
    "# Causal Model\n",
    "\n",
    "d = csl.CausalModel(bn, [('g', ['s', 'c'])])"
   ]
  },
  {
   "cell_type": "code",
   "execution_count": 8,
   "metadata": {},
   "outputs": [
    {
     "data": {
      "text/html": [
       "<svg height=\"188pt\" viewBox=\"0.00 0.00 62.00 188.00\" width=\"62pt\" xmlns=\"http://www.w3.org/2000/svg\" xmlns:xlink=\"http://www.w3.org/1999/xlink\">\n",
       "<g class=\"graph\" id=\"graph0\" transform=\"scale(1 1) rotate(0) translate(4 184)\">\n",
       "<title>G</title>\n",
       "<!-- s -->\n",
       "<g class=\"node\" id=\"node1\">\n",
       "<title>s</title>\n",
       "<g id=\"a_node1\"><a xlink:title=\"(0) s\">\n",
       "<ellipse cx=\"27\" cy=\"-162\" fill=\"#404040\" rx=\"27\" ry=\"18\" stroke=\"#000000\"/>\n",
       "<text fill=\"#ffffff\" font-family=\"Times,serif\" font-size=\"14.00\" text-anchor=\"middle\" x=\"27\" y=\"-158.3\">s</text>\n",
       "</a>\n",
       "</g>\n",
       "</g>\n",
       "<!-- t -->\n",
       "<g class=\"node\" id=\"node2\">\n",
       "<title>t</title>\n",
       "<g id=\"a_node2\"><a xlink:title=\"(1) t\">\n",
       "<ellipse cx=\"27\" cy=\"-90\" fill=\"#404040\" rx=\"27\" ry=\"18\" stroke=\"#000000\"/>\n",
       "<text fill=\"#ffffff\" font-family=\"Times,serif\" font-size=\"14.00\" text-anchor=\"middle\" x=\"27\" y=\"-86.3\">t</text>\n",
       "</a>\n",
       "</g>\n",
       "</g>\n",
       "<!-- s&#45;&gt;t -->\n",
       "<g class=\"edge\" id=\"edge1\">\n",
       "<title>s-&gt;t</title>\n",
       "<g id=\"a_edge1\"><a xlink:title=\"(0, 1) : \">\n",
       "<path d=\"M27,-143.8314C27,-136.131 27,-126.9743 27,-118.4166\" fill=\"none\" stroke=\"#4a4a4a\"/>\n",
       "<polygon fill=\"#4a4a4a\" points=\"30.5001,-118.4132 27,-108.4133 23.5001,-118.4133 30.5001,-118.4132\" stroke=\"#4a4a4a\"/>\n",
       "</a>\n",
       "</g>\n",
       "</g>\n",
       "<!-- c -->\n",
       "<g class=\"node\" id=\"node3\">\n",
       "<title>c</title>\n",
       "<g id=\"a_node3\"><a xlink:title=\"(2) c\">\n",
       "<ellipse cx=\"27\" cy=\"-18\" fill=\"#404040\" rx=\"27\" ry=\"18\" stroke=\"#000000\"/>\n",
       "<text fill=\"#ffffff\" font-family=\"Times,serif\" font-size=\"14.00\" text-anchor=\"middle\" x=\"27\" y=\"-14.3\">c</text>\n",
       "</a>\n",
       "</g>\n",
       "</g>\n",
       "<!-- t&#45;&gt;c -->\n",
       "<g class=\"edge\" id=\"edge2\">\n",
       "<title>t-&gt;c</title>\n",
       "<g id=\"a_edge2\"><a xlink:title=\"(1, 2) : \">\n",
       "<path d=\"M27,-71.8314C27,-64.131 27,-54.9743 27,-46.4166\" fill=\"none\" stroke=\"#4a4a4a\"/>\n",
       "<polygon fill=\"#4a4a4a\" points=\"30.5001,-46.4132 27,-36.4133 23.5001,-46.4133 30.5001,-46.4132\" stroke=\"#4a4a4a\"/>\n",
       "</a>\n",
       "</g>\n",
       "</g>\n",
       "</g>\n",
       "</svg>"
      ],
      "text/plain": [
       "(gum::BayesNet<double>@0x55d2a66d6f90) BN{nodes: 3, arcs: 2, domainSize: 8, dim: 10}"
      ]
     },
     "execution_count": 8,
     "metadata": {},
     "output_type": "execute_result"
    }
   ],
   "source": [
    "bn\n"
   ]
  },
  {
   "cell_type": "code",
   "execution_count": 9,
   "metadata": {},
   "outputs": [
    {
     "data": {
      "text/html": [
       "<table style=\"border:1px solid black;\">\n",
       "<tr><th colspan='1'></th><th colspan='2' style='border:1px solid black;color:black;background-color:#808080;'><center>c</center></th></tr>\n",
       "<tr><th style='border:1px solid black;color:black;background-color:#808080'><center>t</center></th><th style='border:1px solid black;border-bottom-style: double;color:black;background-color:#BBBBBB'><center>0</center></th><th style='border:1px solid black;border-bottom-style: double;color:black;background-color:#BBBBBB'><center>1</center></th></tr>\n",
       "<tr><th style='border:1px solid black;color:black;background-color:#BBBBBB'><center>0</center></th><td style='color:black;background-color:#8bf264;text-align:right;'>0.9000</td><td style='color:black;background-color:#f28b64;text-align:right;'>0.1000</td></tr>\n",
       "<tr><th style='border:1px solid black;color:black;background-color:#BBBBBB'><center>1</center></th><td style='color:black;background-color:#92eb64;text-align:right;'>0.8500</td><td style='color:black;background-color:#eb9264;text-align:right;'>0.1500</td></tr>\n",
       "</table>"
      ],
      "text/plain": [
       "(gum::Potential<double>@0x55d2a5aed6a0) <c:0|t:0> :: 0.9 /<c:1|t:0> :: 0.1 /<c:0|t:1> :: 0.85 /<c:1|t:1> :: 0.15"
      ]
     },
     "execution_count": 9,
     "metadata": {},
     "output_type": "execute_result"
    }
   ],
   "source": [
    "bn.cpt('c')"
   ]
  },
  {
   "cell_type": "code",
   "execution_count": 10,
   "metadata": {},
   "outputs": [
    {
     "data": {
      "text/html": [
       "<svg height=\"228pt\" viewBox=\"0.00 0.00 89.00 227.60\" width=\"89pt\" xmlns=\"http://www.w3.org/2000/svg\" xmlns:xlink=\"http://www.w3.org/1999/xlink\">\n",
       "<g class=\"graph\" id=\"graph0\" transform=\"scale(1 1) rotate(0) translate(4 223.6)\">\n",
       "<title>G</title>\n",
       "<polygon fill=\"#ffffff\" points=\"-4,4 -4,-223.6 85,-223.6 85,4 -4,4\" stroke=\"transparent\"/>\n",
       "<!-- s -->\n",
       "<g class=\"node\" id=\"node1\">\n",
       "<title>s</title>\n",
       "<ellipse cx=\"27\" cy=\"-162\" fill=\"#404040\" rx=\"27\" ry=\"18\" stroke=\"#000000\"/>\n",
       "<text fill=\"#ffffff\" font-family=\"Times,serif\" font-size=\"14.00\" text-anchor=\"middle\" x=\"27\" y=\"-158.3\">s</text>\n",
       "</g>\n",
       "<!-- t -->\n",
       "<g class=\"node\" id=\"node2\">\n",
       "<title>t</title>\n",
       "<ellipse cx=\"27\" cy=\"-90\" fill=\"#404040\" rx=\"27\" ry=\"18\" stroke=\"#000000\"/>\n",
       "<text fill=\"#ffffff\" font-family=\"Times,serif\" font-size=\"14.00\" text-anchor=\"middle\" x=\"27\" y=\"-86.3\">t</text>\n",
       "</g>\n",
       "<!-- s&#45;&gt;t -->\n",
       "<g class=\"edge\" id=\"edge1\">\n",
       "<title>s-&gt;t</title>\n",
       "<path d=\"M26,-143.8314C26,-136.131 26,-126.9743 26,-118.4166\" fill=\"none\" stroke=\"#000000\"/>\n",
       "<path d=\"M28,-143.8314C28,-136.131 28,-126.9743 28,-118.4166\" fill=\"none\" stroke=\"#000000\"/>\n",
       "<polygon fill=\"#000000\" points=\"30.5001,-118.4132 27,-108.4133 23.5001,-118.4133 30.5001,-118.4132\" stroke=\"#000000\"/>\n",
       "</g>\n",
       "<!-- c -->\n",
       "<g class=\"node\" id=\"node3\">\n",
       "<title>c</title>\n",
       "<ellipse cx=\"54\" cy=\"-18\" fill=\"#404040\" rx=\"27\" ry=\"18\" stroke=\"#000000\"/>\n",
       "<text fill=\"#ffffff\" font-family=\"Times,serif\" font-size=\"14.00\" text-anchor=\"middle\" x=\"54\" y=\"-14.3\">c</text>\n",
       "</g>\n",
       "<!-- t&#45;&gt;c -->\n",
       "<g class=\"edge\" id=\"edge4\">\n",
       "<title>t-&gt;c</title>\n",
       "<path d=\"M32.7378,-71.8511C35.8113,-63.6552 39.5253,-53.7513 42.9332,-44.6634\" fill=\"none\" stroke=\"#000000\"/>\n",
       "<path d=\"M34.6105,-72.5534C37.6839,-64.3575 41.3979,-54.4535 44.8059,-45.3657\" fill=\"none\" stroke=\"#000000\"/>\n",
       "<polygon fill=\"#000000\" points=\"47.1685,-46.1853 47.4026,-35.593 40.6142,-43.7274 47.1685,-46.1853\" stroke=\"#000000\"/>\n",
       "</g>\n",
       "<!-- g -->\n",
       "<g class=\"node\" id=\"node4\">\n",
       "<title>g</title>\n",
       "<ellipse cx=\"54\" cy=\"-217.8\" fill=\"#a08080\" rx=\"1.8\" ry=\"1.8\" stroke=\"#000000\"/>\n",
       "</g>\n",
       "<!-- g&#45;&gt;s -->\n",
       "<g class=\"edge\" id=\"edge2\">\n",
       "<title>g-&gt;s</title>\n",
       "<path d=\"M53.1017,-215.9434C50.9571,-211.5113 45.3064,-199.8332 39.8089,-188.4717\" fill=\"none\" stroke=\"#000000\" stroke-dasharray=\"5,2\"/>\n",
       "<polygon fill=\"#000000\" points=\"42.8136,-186.6457 35.3074,-179.1686 36.5125,-189.6947 42.8136,-186.6457\" stroke=\"#000000\"/>\n",
       "</g>\n",
       "<!-- g&#45;&gt;c -->\n",
       "<g class=\"edge\" id=\"edge3\">\n",
       "<title>g-&gt;c</title>\n",
       "<path d=\"M54.658,-215.7814C56.445,-210.1799 61.3638,-193.9359 63,-180 68.5971,-132.3274 66.9591,-119.8364 63,-72 62.2945,-63.4753 60.9727,-54.2703 59.5551,-45.917\" fill=\"none\" stroke=\"#000000\" stroke-dasharray=\"5,2\"/>\n",
       "<polygon fill=\"#000000\" points=\"62.9689,-45.1258 57.7474,-35.9069 56.0803,-46.3698 62.9689,-45.1258\" stroke=\"#000000\"/>\n",
       "</g>\n",
       "</g>\n",
       "</svg>"
      ],
      "text/plain": [
       "<pyAgrum.causal._CausalModel.CausalModel at 0x7f52a94ce358>"
      ]
     },
     "execution_count": 10,
     "metadata": {},
     "output_type": "execute_result"
    }
   ],
   "source": [
    "d\n"
   ]
  },
  {
   "cell_type": "code",
   "execution_count": 1,
   "metadata": {},
   "outputs": [
    {
     "ename": "NameError",
     "evalue": "name 'd' is not defined",
     "output_type": "error",
     "traceback": [
      "\u001b[0;31m---------------------------------------------------------------------------\u001b[0m",
      "\u001b[0;31mNameError\u001b[0m                                 Traceback (most recent call last)",
      "\u001b[0;32m<ipython-input-1-e983f374794d>\u001b[0m in \u001b[0;36m<module>\u001b[0;34m\u001b[0m\n\u001b[0;32m----> 1\u001b[0;31m \u001b[0md\u001b[0m\u001b[0;34m\u001b[0m\u001b[0;34m\u001b[0m\u001b[0m\n\u001b[0m",
      "\u001b[0;31mNameError\u001b[0m: name 'd' is not defined"
     ]
    }
   ],
   "source": [
    "d"
   ]
  },
  {
   "cell_type": "code",
   "execution_count": 2,
   "metadata": {},
   "outputs": [
    {
     "data": {
      "text/html": [
       "<table style=\"border-style: hidden; border-collapse: collapse;\" width=\"100%\"><tr><td style=\"border-top:hidden;border-bottom:hidden;\"><div align=\"center\" style=\"\"><svg height=\"180pt\" viewBox=\"0.00 0.00 70.39 180.00\" width=\"70pt\" xmlns=\"http://www.w3.org/2000/svg\" xmlns:xlink=\"http://www.w3.org/1999/xlink\">\n",
       "<g class=\"graph\" id=\"graph0\" transform=\"scale(.7909 .7909) rotate(0) translate(4 223.6)\">\n",
       "<title>G</title>\n",
       "<polygon fill=\"#ffffff\" points=\"-4,4 -4,-223.6 85,-223.6 85,4 -4,4\" stroke=\"transparent\"/>\n",
       "<!-- s -->\n",
       "<g class=\"node\" id=\"node1\">\n",
       "<title>s</title>\n",
       "<ellipse cx=\"27\" cy=\"-162\" fill=\"#404040\" rx=\"27\" ry=\"18\" stroke=\"#000000\"/>\n",
       "<text fill=\"#ffffff\" font-family=\"Times,serif\" font-size=\"14.00\" text-anchor=\"middle\" x=\"27\" y=\"-158.3\">s</text>\n",
       "</g>\n",
       "<!-- t -->\n",
       "<g class=\"node\" id=\"node2\">\n",
       "<title>t</title>\n",
       "<ellipse cx=\"27\" cy=\"-90\" fill=\"#404040\" rx=\"27\" ry=\"18\" stroke=\"#000000\"/>\n",
       "<text fill=\"#ffffff\" font-family=\"Times,serif\" font-size=\"14.00\" text-anchor=\"middle\" x=\"27\" y=\"-86.3\">t</text>\n",
       "</g>\n",
       "<!-- s&#45;&gt;t -->\n",
       "<g class=\"edge\" id=\"edge1\">\n",
       "<title>s-&gt;t</title>\n",
       "<path d=\"M26,-143.8314C26,-136.131 26,-126.9743 26,-118.4166\" fill=\"none\" stroke=\"#000000\"/>\n",
       "<path d=\"M28,-143.8314C28,-136.131 28,-126.9743 28,-118.4166\" fill=\"none\" stroke=\"#000000\"/>\n",
       "<polygon fill=\"#000000\" points=\"30.5001,-118.4132 27,-108.4133 23.5001,-118.4133 30.5001,-118.4132\" stroke=\"#000000\"/>\n",
       "</g>\n",
       "<!-- c -->\n",
       "<g class=\"node\" id=\"node3\">\n",
       "<title>c</title>\n",
       "<ellipse cx=\"54\" cy=\"-18\" fill=\"#404040\" rx=\"27\" ry=\"18\" stroke=\"#000000\"/>\n",
       "<text fill=\"#ffffff\" font-family=\"Times,serif\" font-size=\"14.00\" text-anchor=\"middle\" x=\"54\" y=\"-14.3\">c</text>\n",
       "</g>\n",
       "<!-- t&#45;&gt;c -->\n",
       "<g class=\"edge\" id=\"edge4\">\n",
       "<title>t-&gt;c</title>\n",
       "<path d=\"M32.7378,-71.8511C35.8113,-63.6552 39.5253,-53.7513 42.9332,-44.6634\" fill=\"none\" stroke=\"#000000\"/>\n",
       "<path d=\"M34.6105,-72.5534C37.6839,-64.3575 41.3979,-54.4535 44.8059,-45.3657\" fill=\"none\" stroke=\"#000000\"/>\n",
       "<polygon fill=\"#000000\" points=\"47.1685,-46.1853 47.4026,-35.593 40.6142,-43.7274 47.1685,-46.1853\" stroke=\"#000000\"/>\n",
       "</g>\n",
       "<!-- g -->\n",
       "<g class=\"node\" id=\"node4\">\n",
       "<title>g</title>\n",
       "<ellipse cx=\"54\" cy=\"-217.8\" fill=\"#a08080\" rx=\"1.8\" ry=\"1.8\" stroke=\"#000000\"/>\n",
       "</g>\n",
       "<!-- g&#45;&gt;s -->\n",
       "<g class=\"edge\" id=\"edge2\">\n",
       "<title>g-&gt;s</title>\n",
       "<path d=\"M53.1017,-215.9434C50.9571,-211.5113 45.3064,-199.8332 39.8089,-188.4717\" fill=\"none\" stroke=\"#000000\" stroke-dasharray=\"5,2\"/>\n",
       "<polygon fill=\"#000000\" points=\"42.8136,-186.6457 35.3074,-179.1686 36.5125,-189.6947 42.8136,-186.6457\" stroke=\"#000000\"/>\n",
       "</g>\n",
       "<!-- g&#45;&gt;c -->\n",
       "<g class=\"edge\" id=\"edge3\">\n",
       "<title>g-&gt;c</title>\n",
       "<path d=\"M54.658,-215.7814C56.445,-210.1799 61.3638,-193.9359 63,-180 68.5971,-132.3274 66.9591,-119.8364 63,-72 62.2945,-63.4753 60.9727,-54.2703 59.5551,-45.917\" fill=\"none\" stroke=\"#000000\" stroke-dasharray=\"5,2\"/>\n",
       "<polygon fill=\"#000000\" points=\"62.9689,-45.1258 57.7474,-35.9069 56.0803,-46.3698 62.9689,-45.1258\" stroke=\"#000000\"/>\n",
       "</g>\n",
       "</g>\n",
       "</svg></div></td><td style=\"border-top:hidden;border-bottom:hidden;\"><div align=\"center\" style=\"\">$$\\begin{equation}P( c \\mid \\hookrightarrow\\mkern-6.5mus) = \\sum_{t}{P\\left(t\\mid s\\right) \\cdot \\left(\\sum_{s'}{P\\left(c\\mid s',t\\right) \\cdot P\\left(s'\\right)}\\right)}\\end{equation}$$</div></td><td style=\"border-top:hidden;border-bottom:hidden;\"><div align=\"center\" style=\"\"><table style=\"border:1px solid black;\">\n",
       "<tr style='border:1px solid black;color:black;background-color:#808080'><th colspan='2'><center>c</center></th></tr>\n",
       "<tr><th style='border:1px solid black;border-bottom-style: double;color:black;background-color:#BBBBBB'><center>0</center></th><th style='border:1px solid black;border-bottom-style: double;color:black;background-color:#BBBBBB'><center>1</center></th></tr>\n",
       "<tr><td style='color:black;background-color:#91ec64;text-align:right;'>0.8525</td><td style='color:black;background-color:#ec9164;text-align:right;'>0.1475</td></tr>\n",
       "</table></div></td></tr><tr><td style=\"border-top:hidden;border-bottom:hidden;\"><div align=\"center\"><small>Causal Model</small></div></td><td style=\"border-top:hidden;border-bottom:hidden;\"><div align=\"center\"><small>Explanation : frontdoor ['t'] found.</small></div></td><td style=\"border-top:hidden;border-bottom:hidden;\"><div align=\"center\"><small>Impact : $P( c \\mid \\hookrightarrow\\mkern-6.5mus=1)$</small></div></td></tr></table>"
      ],
      "text/plain": [
       "<IPython.core.display.HTML object>"
      ]
     },
     "metadata": {},
     "output_type": "display_data"
    },
    {
     "data": {
      "text/html": [
       "<table style=\"border-style: hidden; border-collapse: collapse;\" width=\"100%\"><tr><td style=\"border-top:hidden;border-bottom:hidden;\"><div align=\"center\" style=\"\"><svg height=\"180pt\" viewBox=\"0.00 0.00 70.39 180.00\" width=\"70pt\" xmlns=\"http://www.w3.org/2000/svg\" xmlns:xlink=\"http://www.w3.org/1999/xlink\">\n",
       "<g class=\"graph\" id=\"graph0\" transform=\"scale(.7909 .7909) rotate(0) translate(4 223.6)\">\n",
       "<title>G</title>\n",
       "<polygon fill=\"#ffffff\" points=\"-4,4 -4,-223.6 85,-223.6 85,4 -4,4\" stroke=\"transparent\"/>\n",
       "<!-- s -->\n",
       "<g class=\"node\" id=\"node1\">\n",
       "<title>s</title>\n",
       "<ellipse cx=\"27\" cy=\"-162\" fill=\"#404040\" rx=\"27\" ry=\"18\" stroke=\"#000000\"/>\n",
       "<text fill=\"#ffffff\" font-family=\"Times,serif\" font-size=\"14.00\" text-anchor=\"middle\" x=\"27\" y=\"-158.3\">s</text>\n",
       "</g>\n",
       "<!-- t -->\n",
       "<g class=\"node\" id=\"node2\">\n",
       "<title>t</title>\n",
       "<ellipse cx=\"27\" cy=\"-90\" fill=\"#404040\" rx=\"27\" ry=\"18\" stroke=\"#000000\"/>\n",
       "<text fill=\"#ffffff\" font-family=\"Times,serif\" font-size=\"14.00\" text-anchor=\"middle\" x=\"27\" y=\"-86.3\">t</text>\n",
       "</g>\n",
       "<!-- s&#45;&gt;t -->\n",
       "<g class=\"edge\" id=\"edge1\">\n",
       "<title>s-&gt;t</title>\n",
       "<path d=\"M26,-143.8314C26,-136.131 26,-126.9743 26,-118.4166\" fill=\"none\" stroke=\"#000000\"/>\n",
       "<path d=\"M28,-143.8314C28,-136.131 28,-126.9743 28,-118.4166\" fill=\"none\" stroke=\"#000000\"/>\n",
       "<polygon fill=\"#000000\" points=\"30.5001,-118.4132 27,-108.4133 23.5001,-118.4133 30.5001,-118.4132\" stroke=\"#000000\"/>\n",
       "</g>\n",
       "<!-- c -->\n",
       "<g class=\"node\" id=\"node3\">\n",
       "<title>c</title>\n",
       "<ellipse cx=\"54\" cy=\"-18\" fill=\"#404040\" rx=\"27\" ry=\"18\" stroke=\"#000000\"/>\n",
       "<text fill=\"#ffffff\" font-family=\"Times,serif\" font-size=\"14.00\" text-anchor=\"middle\" x=\"54\" y=\"-14.3\">c</text>\n",
       "</g>\n",
       "<!-- t&#45;&gt;c -->\n",
       "<g class=\"edge\" id=\"edge4\">\n",
       "<title>t-&gt;c</title>\n",
       "<path d=\"M32.7378,-71.8511C35.8113,-63.6552 39.5253,-53.7513 42.9332,-44.6634\" fill=\"none\" stroke=\"#000000\"/>\n",
       "<path d=\"M34.6105,-72.5534C37.6839,-64.3575 41.3979,-54.4535 44.8059,-45.3657\" fill=\"none\" stroke=\"#000000\"/>\n",
       "<polygon fill=\"#000000\" points=\"47.1685,-46.1853 47.4026,-35.593 40.6142,-43.7274 47.1685,-46.1853\" stroke=\"#000000\"/>\n",
       "</g>\n",
       "<!-- g -->\n",
       "<g class=\"node\" id=\"node4\">\n",
       "<title>g</title>\n",
       "<ellipse cx=\"54\" cy=\"-217.8\" fill=\"#a08080\" rx=\"1.8\" ry=\"1.8\" stroke=\"#000000\"/>\n",
       "</g>\n",
       "<!-- g&#45;&gt;s -->\n",
       "<g class=\"edge\" id=\"edge2\">\n",
       "<title>g-&gt;s</title>\n",
       "<path d=\"M53.1017,-215.9434C50.9571,-211.5113 45.3064,-199.8332 39.8089,-188.4717\" fill=\"none\" stroke=\"#000000\" stroke-dasharray=\"5,2\"/>\n",
       "<polygon fill=\"#000000\" points=\"42.8136,-186.6457 35.3074,-179.1686 36.5125,-189.6947 42.8136,-186.6457\" stroke=\"#000000\"/>\n",
       "</g>\n",
       "<!-- g&#45;&gt;c -->\n",
       "<g class=\"edge\" id=\"edge3\">\n",
       "<title>g-&gt;c</title>\n",
       "<path d=\"M54.658,-215.7814C56.445,-210.1799 61.3638,-193.9359 63,-180 68.5971,-132.3274 66.9591,-119.8364 63,-72 62.2945,-63.4753 60.9727,-54.2703 59.5551,-45.917\" fill=\"none\" stroke=\"#000000\" stroke-dasharray=\"5,2\"/>\n",
       "<polygon fill=\"#000000\" points=\"62.9689,-45.1258 57.7474,-35.9069 56.0803,-46.3698 62.9689,-45.1258\" stroke=\"#000000\"/>\n",
       "</g>\n",
       "</g>\n",
       "</svg></div></td><td style=\"border-top:hidden;border-bottom:hidden;\"><div align=\"center\" style=\"\">$$\\begin{equation}P( c \\mid \\hookrightarrow\\mkern-6.5mus) = \\sum_{t}{P\\left(t\\mid s\\right) \\cdot \\left(\\sum_{s'}{P\\left(c\\mid s',t\\right) \\cdot P\\left(s'\\right)}\\right)}\\end{equation}$$</div></td><td style=\"border-top:hidden;border-bottom:hidden;\"><div align=\"center\" style=\"\"><table style=\"border:1px solid black;\">\n",
       "<tr style='border:1px solid black;color:black;background-color:#808080'><th colspan='2'><center>c</center></th></tr>\n",
       "<tr><th style='border:1px solid black;border-bottom-style: double;color:black;background-color:#BBBBBB'><center>0</center></th><th style='border:1px solid black;border-bottom-style: double;color:black;background-color:#BBBBBB'><center>1</center></th></tr>\n",
       "<tr><td style='color:black;background-color:#8cf164;text-align:right;'>0.8975</td><td style='color:black;background-color:#f18c64;text-align:right;'>0.1025</td></tr>\n",
       "</table></div></td></tr><tr><td style=\"border-top:hidden;border-bottom:hidden;\"><div align=\"center\"><small>Causal Model</small></div></td><td style=\"border-top:hidden;border-bottom:hidden;\"><div align=\"center\"><small>Explanation : frontdoor ['t'] found.</small></div></td><td style=\"border-top:hidden;border-bottom:hidden;\"><div align=\"center\"><small>Impact : $P( c \\mid \\hookrightarrow\\mkern-6.5mus=0)$</small></div></td></tr></table>"
      ],
      "text/plain": [
       "<IPython.core.display.HTML object>"
      ]
     },
     "metadata": {},
     "output_type": "display_data"
    }
   ],
   "source": [
    "# example from the book -- page 66 - 68\n",
    "\n",
    "from IPython.display import display, Math, Latex, HTML\n",
    "\n",
    "import pyAgrum as gum\n",
    "import pyAgrum.lib.notebook as gnb\n",
    "import pyAgrum.causal as csl\n",
    "import pyAgrum.causal.notebook as cslnb\n",
    "\n",
    "# Smoking causes cancer?\n",
    "\n",
    "# s is smoking, t is tar deposits, c is lung cancer\n",
    "bn = gum.fastBN(\"s->t->c\")\n",
    "\n",
    "# conditional probabilities table\n",
    "bn.cpt('s')[:] = [0.5, 0.5]\n",
    "\n",
    "bn.cpt('t')[{'s':0}] = [380/400, 20/400]\n",
    "bn.cpt('t')[{'s':1}] = [20/400, 380/400]\n",
    "\n",
    "bn.cpt('c')[{'s':0, 't':0}] = [38/380, 342/380]\n",
    "bn.cpt('c')[{'s':0, 't':1}] = [1/20, 19/20]\n",
    "bn.cpt('c')[{'s':1, 't':0}] = [18/20, 2/20]\n",
    "bn.cpt('c')[{'s':1, 't':1}] = [323/380, 57/380]\n",
    "\n",
    "# bn\n",
    "# bn.cpt('c')\n",
    "\n",
    "# Causal Model\n",
    "\n",
    "# g is genes\n",
    "d = csl.CausalModel(bn, [('g', ['s', 'c'])])\n",
    "\n",
    "cslnb.showCausalImpact(d, 'c', 's', values={'s':1})\n",
    "cslnb.showCausalImpact(d, 'c', 's', values={'s':0})\n",
    "\n",
    "do_s0 = csl.causalImpact(d, 'c', 's', '', {'s':0})\n",
    "do_s1 = csl.causalImpact(d, 'c', 's', '', {'s':1})"
   ]
  },
  {
   "cell_type": "code",
   "execution_count": 3,
   "metadata": {},
   "outputs": [
    {
     "data": {
      "text/plain": [
       "(<pyAgrum.causal._CausalFormula.CausalFormula at 0x7fc0ec1c94e0>,\n",
       " (gum::Potential<double>@0x55836b6cc1e0) <c:0> :: 0.8975 /<c:1> :: 0.1025,\n",
       " \"frontdoor ['t'] found.\")"
      ]
     },
     "execution_count": 3,
     "metadata": {},
     "output_type": "execute_result"
    }
   ],
   "source": [
    "do_s0"
   ]
  },
  {
   "cell_type": "code",
   "execution_count": 6,
   "metadata": {},
   "outputs": [
    {
     "ename": "TypeError",
     "evalue": "unsupported operand type(s) for |: 'set' and 'dict'",
     "output_type": "error",
     "traceback": [
      "\u001b[0;31m---------------------------------------------------------------------------\u001b[0m",
      "\u001b[0;31mTypeError\u001b[0m                                 Traceback (most recent call last)",
      "\u001b[0;32m<ipython-input-6-4de2f87c679b>\u001b[0m in \u001b[0;36m<module>\u001b[0;34m\u001b[0m\n\u001b[0;32m----> 1\u001b[0;31m \u001b[0mcsl\u001b[0m\u001b[0;34m.\u001b[0m\u001b[0mcausalImpact\u001b[0m\u001b[0;34m(\u001b[0m\u001b[0md\u001b[0m\u001b[0;34m,\u001b[0m \u001b[0;34m\"cancer\"\u001b[0m\u001b[0;34m,\u001b[0m \u001b[0;34m\"smoking\"\u001b[0m\u001b[0;34m,\u001b[0m \u001b[0;34m{\u001b[0m\u001b[0;34m\"smoking\"\u001b[0m\u001b[0;34m:\u001b[0m \u001b[0;36m1\u001b[0m\u001b[0;34m}\u001b[0m\u001b[0;34m)\u001b[0m\u001b[0;34m\u001b[0m\u001b[0;34m\u001b[0m\u001b[0m\n\u001b[0m",
      "\u001b[0;32m~/anaconda3/lib/python3.7/site-packages/pyAgrum/causal/_causalImpact.py\u001b[0m in \u001b[0;36mcausalImpact\u001b[0;34m(cm, on, doing, knowing, values)\u001b[0m\n\u001b[1;32m     70\u001b[0m \u001b[0;34m\u001b[0m\u001b[0m\n\u001b[1;32m     71\u001b[0m   total = {cm.observationalBN().variable(cm.observationalBN().idFromName(i)).name()\n\u001b[0;32m---> 72\u001b[0;31m            for i in son | sdoing | sk}\n\u001b[0m\u001b[1;32m     73\u001b[0m \u001b[0;34m\u001b[0m\u001b[0m\n\u001b[1;32m     74\u001b[0m   \u001b[0;32mif\u001b[0m \u001b[0mvalues\u001b[0m \u001b[0;32mis\u001b[0m \u001b[0;32mnot\u001b[0m \u001b[0;32mNone\u001b[0m\u001b[0;34m:\u001b[0m\u001b[0;34m\u001b[0m\u001b[0;34m\u001b[0m\u001b[0m\n",
      "\u001b[0;31mTypeError\u001b[0m: unsupported operand type(s) for |: 'set' and 'dict'"
     ]
    }
   ],
   "source": [
    "csl.causalImpact(d, \"cancer\", \"smoking\", {\"smoking\": 1})"
   ]
  },
  {
   "cell_type": "code",
   "execution_count": 7,
   "metadata": {},
   "outputs": [
    {
     "ename": "NotFound",
     "evalue": "[pyAgrum] Object not found: hashtable's chained list contains no element with this key <smoking>",
     "output_type": "error",
     "traceback": [
      "\u001b[0;31m---------------------------------------------------------------------------\u001b[0m",
      "\u001b[0;31mNotFound\u001b[0m                                  Traceback (most recent call last)",
      "\u001b[0;32m<ipython-input-7-90bfd5d608d7>\u001b[0m in \u001b[0;36m<module>\u001b[0;34m\u001b[0m\n\u001b[0;32m----> 1\u001b[0;31m \u001b[0mcsl\u001b[0m\u001b[0;34m.\u001b[0m\u001b[0mcausalImpact\u001b[0m\u001b[0;34m(\u001b[0m\u001b[0md\u001b[0m\u001b[0;34m,\u001b[0m \u001b[0;34m\"cancer\"\u001b[0m\u001b[0;34m,\u001b[0m \u001b[0;34m\"smoking\"\u001b[0m\u001b[0;34m)\u001b[0m\u001b[0;34m\u001b[0m\u001b[0;34m\u001b[0m\u001b[0m\n\u001b[0m",
      "\u001b[0;32m~/anaconda3/lib/python3.7/site-packages/pyAgrum/causal/_causalImpact.py\u001b[0m in \u001b[0;36mcausalImpact\u001b[0;34m(cm, on, doing, knowing, values)\u001b[0m\n\u001b[1;32m     70\u001b[0m \u001b[0;34m\u001b[0m\u001b[0m\n\u001b[1;32m     71\u001b[0m   total = {cm.observationalBN().variable(cm.observationalBN().idFromName(i)).name()\n\u001b[0;32m---> 72\u001b[0;31m            for i in son | sdoing | sk}\n\u001b[0m\u001b[1;32m     73\u001b[0m \u001b[0;34m\u001b[0m\u001b[0m\n\u001b[1;32m     74\u001b[0m   \u001b[0;32mif\u001b[0m \u001b[0mvalues\u001b[0m \u001b[0;32mis\u001b[0m \u001b[0;32mnot\u001b[0m \u001b[0;32mNone\u001b[0m\u001b[0;34m:\u001b[0m\u001b[0;34m\u001b[0m\u001b[0;34m\u001b[0m\u001b[0m\n",
      "\u001b[0;32m~/anaconda3/lib/python3.7/site-packages/pyAgrum/causal/_causalImpact.py\u001b[0m in \u001b[0;36m<setcomp>\u001b[0;34m(.0)\u001b[0m\n\u001b[1;32m     70\u001b[0m \u001b[0;34m\u001b[0m\u001b[0m\n\u001b[1;32m     71\u001b[0m   total = {cm.observationalBN().variable(cm.observationalBN().idFromName(i)).name()\n\u001b[0;32m---> 72\u001b[0;31m            for i in son | sdoing | sk}\n\u001b[0m\u001b[1;32m     73\u001b[0m \u001b[0;34m\u001b[0m\u001b[0m\n\u001b[1;32m     74\u001b[0m   \u001b[0;32mif\u001b[0m \u001b[0mvalues\u001b[0m \u001b[0;32mis\u001b[0m \u001b[0;32mnot\u001b[0m \u001b[0;32mNone\u001b[0m\u001b[0;34m:\u001b[0m\u001b[0;34m\u001b[0m\u001b[0;34m\u001b[0m\u001b[0m\n",
      "\u001b[0;32m~/anaconda3/lib/python3.7/site-packages/pyAgrum/pyAgrum.py\u001b[0m in \u001b[0;36midFromName\u001b[0;34m(self, name)\u001b[0m\n\u001b[1;32m   9675\u001b[0m \u001b[0;34m\u001b[0m\u001b[0m\n\u001b[1;32m   9676\u001b[0m         \"\"\"\n\u001b[0;32m-> 9677\u001b[0;31m         \u001b[0;32mreturn\u001b[0m \u001b[0m_pyAgrum\u001b[0m\u001b[0;34m.\u001b[0m\u001b[0mBayesNet_idFromName\u001b[0m\u001b[0;34m(\u001b[0m\u001b[0mself\u001b[0m\u001b[0;34m,\u001b[0m \u001b[0mname\u001b[0m\u001b[0;34m)\u001b[0m\u001b[0;34m\u001b[0m\u001b[0;34m\u001b[0m\u001b[0m\n\u001b[0m\u001b[1;32m   9678\u001b[0m \u001b[0;34m\u001b[0m\u001b[0m\n\u001b[1;32m   9679\u001b[0m     \u001b[0;32mdef\u001b[0m \u001b[0mvariableFromName\u001b[0m\u001b[0;34m(\u001b[0m\u001b[0mself\u001b[0m\u001b[0;34m,\u001b[0m \u001b[0mname\u001b[0m\u001b[0;34m:\u001b[0m \u001b[0;34m\"std::string const &\"\u001b[0m\u001b[0;34m)\u001b[0m \u001b[0;34m->\u001b[0m \u001b[0;34m\"gum::DiscreteVariable const &\"\u001b[0m\u001b[0;34m:\u001b[0m\u001b[0;34m\u001b[0m\u001b[0;34m\u001b[0m\u001b[0m\n",
      "\u001b[0;31mNotFound\u001b[0m: [pyAgrum] Object not found: hashtable's chained list contains no element with this key <smoking>"
     ]
    }
   ],
   "source": [
    "csl.causalImpact(d, \"cancer\", \"smoking\")"
   ]
  },
  {
   "cell_type": "code",
   "execution_count": 8,
   "metadata": {},
   "outputs": [
    {
     "ename": "AttributeError",
     "evalue": "module 'pyAgrum.causal' has no attribute 'CausalImpact'",
     "output_type": "error",
     "traceback": [
      "\u001b[0;31m---------------------------------------------------------------------------\u001b[0m",
      "\u001b[0;31mAttributeError\u001b[0m                            Traceback (most recent call last)",
      "\u001b[0;32m<ipython-input-8-0d0ece359aff>\u001b[0m in \u001b[0;36m<module>\u001b[0;34m\u001b[0m\n\u001b[0;32m----> 1\u001b[0;31m \u001b[0mcsl\u001b[0m\u001b[0;34m.\u001b[0m\u001b[0mCausalImpact\u001b[0m\u001b[0;34m(\u001b[0m\u001b[0md\u001b[0m\u001b[0;34m,\u001b[0m \u001b[0;34m\"cancer\"\u001b[0m\u001b[0;34m,\u001b[0m \u001b[0;34m\"smoking\"\u001b[0m\u001b[0;34m)\u001b[0m\u001b[0;34m\u001b[0m\u001b[0;34m\u001b[0m\u001b[0m\n\u001b[0m",
      "\u001b[0;31mAttributeError\u001b[0m: module 'pyAgrum.causal' has no attribute 'CausalImpact'"
     ]
    }
   ],
   "source": [
    "csl.CausalImpact(d, \"cancer\", \"smoking\")"
   ]
  },
  {
   "cell_type": "code",
   "execution_count": 9,
   "metadata": {},
   "outputs": [
    {
     "ename": "NotFound",
     "evalue": "[pyAgrum] Object not found: hashtable's chained list contains no element with this key <smoking>",
     "output_type": "error",
     "traceback": [
      "\u001b[0;31m---------------------------------------------------------------------------\u001b[0m",
      "\u001b[0;31mNotFound\u001b[0m                                  Traceback (most recent call last)",
      "\u001b[0;32m<ipython-input-9-73439e2254c8>\u001b[0m in \u001b[0;36m<module>\u001b[0;34m\u001b[0m\n\u001b[0;32m----> 1\u001b[0;31m \u001b[0mcsl\u001b[0m\u001b[0;34m.\u001b[0m\u001b[0mcausalImpact\u001b[0m\u001b[0;34m(\u001b[0m\u001b[0md\u001b[0m\u001b[0;34m,\u001b[0m \u001b[0;34m'cancer'\u001b[0m\u001b[0;34m,\u001b[0m \u001b[0;34m'smoking'\u001b[0m\u001b[0;34m)\u001b[0m\u001b[0;34m\u001b[0m\u001b[0;34m\u001b[0m\u001b[0m\n\u001b[0m",
      "\u001b[0;32m~/anaconda3/lib/python3.7/site-packages/pyAgrum/causal/_causalImpact.py\u001b[0m in \u001b[0;36mcausalImpact\u001b[0;34m(cm, on, doing, knowing, values)\u001b[0m\n\u001b[1;32m     70\u001b[0m \u001b[0;34m\u001b[0m\u001b[0m\n\u001b[1;32m     71\u001b[0m   total = {cm.observationalBN().variable(cm.observationalBN().idFromName(i)).name()\n\u001b[0;32m---> 72\u001b[0;31m            for i in son | sdoing | sk}\n\u001b[0m\u001b[1;32m     73\u001b[0m \u001b[0;34m\u001b[0m\u001b[0m\n\u001b[1;32m     74\u001b[0m   \u001b[0;32mif\u001b[0m \u001b[0mvalues\u001b[0m \u001b[0;32mis\u001b[0m \u001b[0;32mnot\u001b[0m \u001b[0;32mNone\u001b[0m\u001b[0;34m:\u001b[0m\u001b[0;34m\u001b[0m\u001b[0;34m\u001b[0m\u001b[0m\n",
      "\u001b[0;32m~/anaconda3/lib/python3.7/site-packages/pyAgrum/causal/_causalImpact.py\u001b[0m in \u001b[0;36m<setcomp>\u001b[0;34m(.0)\u001b[0m\n\u001b[1;32m     70\u001b[0m \u001b[0;34m\u001b[0m\u001b[0m\n\u001b[1;32m     71\u001b[0m   total = {cm.observationalBN().variable(cm.observationalBN().idFromName(i)).name()\n\u001b[0;32m---> 72\u001b[0;31m            for i in son | sdoing | sk}\n\u001b[0m\u001b[1;32m     73\u001b[0m \u001b[0;34m\u001b[0m\u001b[0m\n\u001b[1;32m     74\u001b[0m   \u001b[0;32mif\u001b[0m \u001b[0mvalues\u001b[0m \u001b[0;32mis\u001b[0m \u001b[0;32mnot\u001b[0m \u001b[0;32mNone\u001b[0m\u001b[0;34m:\u001b[0m\u001b[0;34m\u001b[0m\u001b[0;34m\u001b[0m\u001b[0m\n",
      "\u001b[0;32m~/anaconda3/lib/python3.7/site-packages/pyAgrum/pyAgrum.py\u001b[0m in \u001b[0;36midFromName\u001b[0;34m(self, name)\u001b[0m\n\u001b[1;32m   9675\u001b[0m \u001b[0;34m\u001b[0m\u001b[0m\n\u001b[1;32m   9676\u001b[0m         \"\"\"\n\u001b[0;32m-> 9677\u001b[0;31m         \u001b[0;32mreturn\u001b[0m \u001b[0m_pyAgrum\u001b[0m\u001b[0;34m.\u001b[0m\u001b[0mBayesNet_idFromName\u001b[0m\u001b[0;34m(\u001b[0m\u001b[0mself\u001b[0m\u001b[0;34m,\u001b[0m \u001b[0mname\u001b[0m\u001b[0;34m)\u001b[0m\u001b[0;34m\u001b[0m\u001b[0;34m\u001b[0m\u001b[0m\n\u001b[0m\u001b[1;32m   9678\u001b[0m \u001b[0;34m\u001b[0m\u001b[0m\n\u001b[1;32m   9679\u001b[0m     \u001b[0;32mdef\u001b[0m \u001b[0mvariableFromName\u001b[0m\u001b[0;34m(\u001b[0m\u001b[0mself\u001b[0m\u001b[0;34m,\u001b[0m \u001b[0mname\u001b[0m\u001b[0;34m:\u001b[0m \u001b[0;34m\"std::string const &\"\u001b[0m\u001b[0;34m)\u001b[0m \u001b[0;34m->\u001b[0m \u001b[0;34m\"gum::DiscreteVariable const &\"\u001b[0m\u001b[0;34m:\u001b[0m\u001b[0;34m\u001b[0m\u001b[0;34m\u001b[0m\u001b[0m\n",
      "\u001b[0;31mNotFound\u001b[0m: [pyAgrum] Object not found: hashtable's chained list contains no element with this key <smoking>"
     ]
    }
   ],
   "source": [
    "csl.causalImpact(d, 'cancer', 'smoking')"
   ]
  },
  {
   "cell_type": "code",
   "execution_count": 10,
   "metadata": {},
   "outputs": [
    {
     "data": {
      "text/html": [
       "<table style=\"border-style: hidden; border-collapse: collapse;\" width=\"100%\"><tr><td style=\"border-top:hidden;border-bottom:hidden;\"><div align=\"center\" style=\"\"><svg height=\"180pt\" viewBox=\"0.00 0.00 93.63 180.00\" width=\"94pt\" xmlns=\"http://www.w3.org/2000/svg\" xmlns:xlink=\"http://www.w3.org/1999/xlink\">\n",
       "<g class=\"graph\" id=\"graph0\" transform=\"scale(.7909 .7909) rotate(0) translate(4 223.6)\">\n",
       "<title>G</title>\n",
       "<polygon fill=\"#ffffff\" points=\"-4,4 -4,-223.6 114.3933,-223.6 114.3933,4 -4,4\" stroke=\"transparent\"/>\n",
       "<!-- smoking -->\n",
       "<g class=\"node\" id=\"node1\">\n",
       "<title>smoking</title>\n",
       "<ellipse cx=\"41.5963\" cy=\"-162\" fill=\"#404040\" rx=\"41.6928\" ry=\"18\" stroke=\"#000000\"/>\n",
       "<text fill=\"#ffffff\" font-family=\"Times,serif\" font-size=\"14.00\" text-anchor=\"middle\" x=\"41.5963\" y=\"-158.3\">smoking</text>\n",
       "</g>\n",
       "<!-- tar -->\n",
       "<g class=\"node\" id=\"node2\">\n",
       "<title>tar</title>\n",
       "<ellipse cx=\"49.5963\" cy=\"-90\" fill=\"#404040\" rx=\"27\" ry=\"18\" stroke=\"#000000\"/>\n",
       "<text fill=\"#ffffff\" font-family=\"Times,serif\" font-size=\"14.00\" text-anchor=\"middle\" x=\"49.5963\" y=\"-86.3\">tar</text>\n",
       "</g>\n",
       "<!-- smoking&#45;&gt;tar -->\n",
       "<g class=\"edge\" id=\"edge1\">\n",
       "<title>smoking-&gt;tar</title>\n",
       "<path d=\"M42.6212,-143.7209C43.4768,-136.0205 44.4942,-126.8639 45.445,-118.3062\" fill=\"none\" stroke=\"#000000\"/>\n",
       "<path d=\"M44.6089,-143.9418C45.4645,-136.2414 46.4819,-127.0848 47.4328,-118.5271\" fill=\"none\" stroke=\"#000000\"/>\n",
       "<polygon fill=\"#000000\" points=\"49.9246,-118.7386 47.5504,-108.4133 42.9674,-117.9656 49.9246,-118.7386\" stroke=\"#000000\"/>\n",
       "</g>\n",
       "<!-- cancer -->\n",
       "<g class=\"node\" id=\"node3\">\n",
       "<title>cancer</title>\n",
       "<ellipse cx=\"76.5963\" cy=\"-18\" fill=\"#404040\" rx=\"33.5952\" ry=\"18\" stroke=\"#000000\"/>\n",
       "<text fill=\"#ffffff\" font-family=\"Times,serif\" font-size=\"14.00\" text-anchor=\"middle\" x=\"76.5963\" y=\"-14.3\">cancer</text>\n",
       "</g>\n",
       "<!-- tar&#45;&gt;cancer -->\n",
       "<g class=\"edge\" id=\"edge4\">\n",
       "<title>tar-&gt;cancer</title>\n",
       "<path d=\"M55.3341,-71.8511C58.3847,-63.7164 62.0662,-53.899 65.4532,-44.867\" fill=\"none\" stroke=\"#000000\"/>\n",
       "<path d=\"M57.2068,-72.5534C60.2573,-64.4186 63.9388,-54.6012 67.3258,-45.5693\" fill=\"none\" stroke=\"#000000\"/>\n",
       "<polygon fill=\"#000000\" points=\"69.6712,-46.4348 69.9054,-35.8425 63.1169,-43.9769 69.6712,-46.4348\" stroke=\"#000000\"/>\n",
       "</g>\n",
       "<!-- genes -->\n",
       "<g class=\"node\" id=\"node4\">\n",
       "<title>genes</title>\n",
       "<ellipse cx=\"76.5963\" cy=\"-217.8\" fill=\"#a08080\" rx=\"1.8\" ry=\"1.8\" stroke=\"#000000\"/>\n",
       "</g>\n",
       "<!-- genes&#45;&gt;smoking -->\n",
       "<g class=\"edge\" id=\"edge2\">\n",
       "<title>genes-&gt;smoking</title>\n",
       "<path d=\"M75.4318,-215.9434C72.6151,-211.4528 65.1326,-199.5236 57.9184,-188.022\" fill=\"none\" stroke=\"#000000\" stroke-dasharray=\"5,2\"/>\n",
       "<polygon fill=\"#000000\" points=\"60.8142,-186.0519 52.5355,-179.4403 54.8842,-189.7715 60.8142,-186.0519\" stroke=\"#000000\"/>\n",
       "</g>\n",
       "<!-- genes&#45;&gt;cancer -->\n",
       "<g class=\"edge\" id=\"edge3\">\n",
       "<title>genes-&gt;cancer</title>\n",
       "<path d=\"M77.5855,-216.146C80.5909,-211.0124 89.5919,-194.8057 92.5963,-180 102.0295,-133.5139 92.2165,-78.3499 84.3387,-45.8673\" fill=\"none\" stroke=\"#000000\" stroke-dasharray=\"5,2\"/>\n",
       "<polygon fill=\"#000000\" points=\"87.7272,-44.9903 81.8759,-36.1578 80.9421,-46.7114 87.7272,-44.9903\" stroke=\"#000000\"/>\n",
       "</g>\n",
       "</g>\n",
       "</svg></div></td><td style=\"border-top:hidden;border-bottom:hidden;\"><div align=\"center\" style=\"\">$$\\begin{equation}P( cancer \\mid \\hookrightarrow\\mkern-6.5musmoking) = \\sum_{tar}{P\\left(tar\\mid smoking\\right) \\cdot \\left(\\sum_{smoking'}{P\\left(cancer\\mid smoking',tar\\right) \\cdot P\\left(smoking'\\right)}\\right)}\\end{equation}$$</div></td><td style=\"border-top:hidden;border-bottom:hidden;\"><div align=\"center\" style=\"\"><table style=\"border:1px solid black;\">\n",
       "<tr style='border:1px solid black;color:black;background-color:#808080'><th colspan='2'><center>cancer</center></th></tr>\n",
       "<tr><th style='border:1px solid black;border-bottom-style: double;color:black;background-color:#BBBBBB'><center>0</center></th><th style='border:1px solid black;border-bottom-style: double;color:black;background-color:#BBBBBB'><center>1</center></th></tr>\n",
       "<tr><td style='color:black;background-color:#91ec64;text-align:right;'>0.8525</td><td style='color:black;background-color:#ec9164;text-align:right;'>0.1475</td></tr>\n",
       "</table></div></td></tr><tr><td style=\"border-top:hidden;border-bottom:hidden;\"><div align=\"center\"><small>Causal Model</small></div></td><td style=\"border-top:hidden;border-bottom:hidden;\"><div align=\"center\"><small>Explanation : frontdoor ['tar'] found.</small></div></td><td style=\"border-top:hidden;border-bottom:hidden;\"><div align=\"center\"><small>Impact : $P( cancer \\mid \\hookrightarrow\\mkern-6.5musmoking=1)$</small></div></td></tr></table>"
      ],
      "text/plain": [
       "<IPython.core.display.HTML object>"
      ]
     },
     "metadata": {},
     "output_type": "display_data"
    },
    {
     "data": {
      "text/html": [
       "<table style=\"border-style: hidden; border-collapse: collapse;\" width=\"100%\"><tr><td style=\"border-top:hidden;border-bottom:hidden;\"><div align=\"center\" style=\"\"><svg height=\"180pt\" viewBox=\"0.00 0.00 93.63 180.00\" width=\"94pt\" xmlns=\"http://www.w3.org/2000/svg\" xmlns:xlink=\"http://www.w3.org/1999/xlink\">\n",
       "<g class=\"graph\" id=\"graph0\" transform=\"scale(.7909 .7909) rotate(0) translate(4 223.6)\">\n",
       "<title>G</title>\n",
       "<polygon fill=\"#ffffff\" points=\"-4,4 -4,-223.6 114.3933,-223.6 114.3933,4 -4,4\" stroke=\"transparent\"/>\n",
       "<!-- smoking -->\n",
       "<g class=\"node\" id=\"node1\">\n",
       "<title>smoking</title>\n",
       "<ellipse cx=\"41.5963\" cy=\"-162\" fill=\"#404040\" rx=\"41.6928\" ry=\"18\" stroke=\"#000000\"/>\n",
       "<text fill=\"#ffffff\" font-family=\"Times,serif\" font-size=\"14.00\" text-anchor=\"middle\" x=\"41.5963\" y=\"-158.3\">smoking</text>\n",
       "</g>\n",
       "<!-- tar -->\n",
       "<g class=\"node\" id=\"node2\">\n",
       "<title>tar</title>\n",
       "<ellipse cx=\"49.5963\" cy=\"-90\" fill=\"#404040\" rx=\"27\" ry=\"18\" stroke=\"#000000\"/>\n",
       "<text fill=\"#ffffff\" font-family=\"Times,serif\" font-size=\"14.00\" text-anchor=\"middle\" x=\"49.5963\" y=\"-86.3\">tar</text>\n",
       "</g>\n",
       "<!-- smoking&#45;&gt;tar -->\n",
       "<g class=\"edge\" id=\"edge1\">\n",
       "<title>smoking-&gt;tar</title>\n",
       "<path d=\"M42.6212,-143.7209C43.4768,-136.0205 44.4942,-126.8639 45.445,-118.3062\" fill=\"none\" stroke=\"#000000\"/>\n",
       "<path d=\"M44.6089,-143.9418C45.4645,-136.2414 46.4819,-127.0848 47.4328,-118.5271\" fill=\"none\" stroke=\"#000000\"/>\n",
       "<polygon fill=\"#000000\" points=\"49.9246,-118.7386 47.5504,-108.4133 42.9674,-117.9656 49.9246,-118.7386\" stroke=\"#000000\"/>\n",
       "</g>\n",
       "<!-- cancer -->\n",
       "<g class=\"node\" id=\"node3\">\n",
       "<title>cancer</title>\n",
       "<ellipse cx=\"76.5963\" cy=\"-18\" fill=\"#404040\" rx=\"33.5952\" ry=\"18\" stroke=\"#000000\"/>\n",
       "<text fill=\"#ffffff\" font-family=\"Times,serif\" font-size=\"14.00\" text-anchor=\"middle\" x=\"76.5963\" y=\"-14.3\">cancer</text>\n",
       "</g>\n",
       "<!-- tar&#45;&gt;cancer -->\n",
       "<g class=\"edge\" id=\"edge4\">\n",
       "<title>tar-&gt;cancer</title>\n",
       "<path d=\"M55.3341,-71.8511C58.3847,-63.7164 62.0662,-53.899 65.4532,-44.867\" fill=\"none\" stroke=\"#000000\"/>\n",
       "<path d=\"M57.2068,-72.5534C60.2573,-64.4186 63.9388,-54.6012 67.3258,-45.5693\" fill=\"none\" stroke=\"#000000\"/>\n",
       "<polygon fill=\"#000000\" points=\"69.6712,-46.4348 69.9054,-35.8425 63.1169,-43.9769 69.6712,-46.4348\" stroke=\"#000000\"/>\n",
       "</g>\n",
       "<!-- genes -->\n",
       "<g class=\"node\" id=\"node4\">\n",
       "<title>genes</title>\n",
       "<ellipse cx=\"76.5963\" cy=\"-217.8\" fill=\"#a08080\" rx=\"1.8\" ry=\"1.8\" stroke=\"#000000\"/>\n",
       "</g>\n",
       "<!-- genes&#45;&gt;smoking -->\n",
       "<g class=\"edge\" id=\"edge2\">\n",
       "<title>genes-&gt;smoking</title>\n",
       "<path d=\"M75.4318,-215.9434C72.6151,-211.4528 65.1326,-199.5236 57.9184,-188.022\" fill=\"none\" stroke=\"#000000\" stroke-dasharray=\"5,2\"/>\n",
       "<polygon fill=\"#000000\" points=\"60.8142,-186.0519 52.5355,-179.4403 54.8842,-189.7715 60.8142,-186.0519\" stroke=\"#000000\"/>\n",
       "</g>\n",
       "<!-- genes&#45;&gt;cancer -->\n",
       "<g class=\"edge\" id=\"edge3\">\n",
       "<title>genes-&gt;cancer</title>\n",
       "<path d=\"M77.5855,-216.146C80.5909,-211.0124 89.5919,-194.8057 92.5963,-180 102.0295,-133.5139 92.2165,-78.3499 84.3387,-45.8673\" fill=\"none\" stroke=\"#000000\" stroke-dasharray=\"5,2\"/>\n",
       "<polygon fill=\"#000000\" points=\"87.7272,-44.9903 81.8759,-36.1578 80.9421,-46.7114 87.7272,-44.9903\" stroke=\"#000000\"/>\n",
       "</g>\n",
       "</g>\n",
       "</svg></div></td><td style=\"border-top:hidden;border-bottom:hidden;\"><div align=\"center\" style=\"\">$$\\begin{equation}P( cancer \\mid \\hookrightarrow\\mkern-6.5musmoking) = \\sum_{tar}{P\\left(tar\\mid smoking\\right) \\cdot \\left(\\sum_{smoking'}{P\\left(cancer\\mid smoking',tar\\right) \\cdot P\\left(smoking'\\right)}\\right)}\\end{equation}$$</div></td><td style=\"border-top:hidden;border-bottom:hidden;\"><div align=\"center\" style=\"\"><table style=\"border:1px solid black;\">\n",
       "<tr style='border:1px solid black;color:black;background-color:#808080'><th colspan='2'><center>cancer</center></th></tr>\n",
       "<tr><th style='border:1px solid black;border-bottom-style: double;color:black;background-color:#BBBBBB'><center>0</center></th><th style='border:1px solid black;border-bottom-style: double;color:black;background-color:#BBBBBB'><center>1</center></th></tr>\n",
       "<tr><td style='color:black;background-color:#8cf164;text-align:right;'>0.8975</td><td style='color:black;background-color:#f18c64;text-align:right;'>0.1025</td></tr>\n",
       "</table></div></td></tr><tr><td style=\"border-top:hidden;border-bottom:hidden;\"><div align=\"center\"><small>Causal Model</small></div></td><td style=\"border-top:hidden;border-bottom:hidden;\"><div align=\"center\"><small>Explanation : frontdoor ['tar'] found.</small></div></td><td style=\"border-top:hidden;border-bottom:hidden;\"><div align=\"center\"><small>Impact : $P( cancer \\mid \\hookrightarrow\\mkern-6.5musmoking=0)$</small></div></td></tr></table>"
      ],
      "text/plain": [
       "<IPython.core.display.HTML object>"
      ]
     },
     "metadata": {},
     "output_type": "display_data"
    },
    {
     "ename": "AttributeError",
     "evalue": "module 'pyAgrum.causal' has no attribute 'CausalImpact'",
     "output_type": "error",
     "traceback": [
      "\u001b[0;31m---------------------------------------------------------------------------\u001b[0m",
      "\u001b[0;31mAttributeError\u001b[0m                            Traceback (most recent call last)",
      "\u001b[0;32m<ipython-input-10-e74da941bbaf>\u001b[0m in \u001b[0;36m<module>\u001b[0;34m\u001b[0m\n\u001b[1;32m     34\u001b[0m \u001b[0mcslnb\u001b[0m\u001b[0;34m.\u001b[0m\u001b[0mshowCausalImpact\u001b[0m\u001b[0;34m(\u001b[0m\u001b[0md\u001b[0m\u001b[0;34m,\u001b[0m \u001b[0;34m'cancer'\u001b[0m\u001b[0;34m,\u001b[0m \u001b[0;34m'smoking'\u001b[0m\u001b[0;34m,\u001b[0m \u001b[0mvalues\u001b[0m\u001b[0;34m=\u001b[0m\u001b[0;34m{\u001b[0m\u001b[0;34m'smoking'\u001b[0m\u001b[0;34m:\u001b[0m\u001b[0;36m0\u001b[0m\u001b[0;34m}\u001b[0m\u001b[0;34m)\u001b[0m\u001b[0;34m\u001b[0m\u001b[0;34m\u001b[0m\u001b[0m\n\u001b[1;32m     35\u001b[0m \u001b[0;34m\u001b[0m\u001b[0m\n\u001b[0;32m---> 36\u001b[0;31m \u001b[0mcsl\u001b[0m\u001b[0;34m.\u001b[0m\u001b[0mCausalImpact\u001b[0m\u001b[0;34m(\u001b[0m\u001b[0md\u001b[0m\u001b[0;34m,\u001b[0m \u001b[0;34m\"cancer\"\u001b[0m\u001b[0;34m,\u001b[0m \u001b[0;34m\"smoking\"\u001b[0m\u001b[0;34m)\u001b[0m\u001b[0;34m\u001b[0m\u001b[0;34m\u001b[0m\u001b[0m\n\u001b[0m",
      "\u001b[0;31mAttributeError\u001b[0m: module 'pyAgrum.causal' has no attribute 'CausalImpact'"
     ]
    }
   ],
   "source": [
    "# example from the book -- page 66 - 68\n",
    "\n",
    "from IPython.display import display, Math, Latex, HTML\n",
    "\n",
    "import pyAgrum as gum\n",
    "import pyAgrum.lib.notebook as gnb\n",
    "import pyAgrum.causal as csl\n",
    "import pyAgrum.causal.notebook as cslnb\n",
    "\n",
    "# Smoking causes cancer?\n",
    "\n",
    "# s is smoking, t is tar deposits, c is lung cancer\n",
    "bn = gum.fastBN(\"smoking->tar->cancer\")\n",
    "\n",
    "# conditional probabilities table\n",
    "bn.cpt('smoking')[:] = [0.5, 0.5]\n",
    "\n",
    "bn.cpt('tar')[{'smoking':0}] = [380/400, 20/400]\n",
    "bn.cpt('tar')[{'smoking':1}] = [20/400, 380/400]\n",
    "\n",
    "bn.cpt('cancer')[{'smoking':0, 'tar':0}] = [38/380, 342/380]\n",
    "bn.cpt('cancer')[{'smoking':0, 'tar':1}] = [1/20, 19/20]\n",
    "bn.cpt('cancer')[{'smoking':1, 'tar':0}] = [18/20, 2/20]\n",
    "bn.cpt('cancer')[{'smoking':1, 'tar':1}] = [323/380, 57/380]\n",
    "\n",
    "# bn\n",
    "# bn.cpt('cancer')\n",
    "\n",
    "# Causal Model\n",
    "\n",
    "d = csl.CausalModel(bn, [('genes', ['smoking', 'cancer'])])\n",
    "\n",
    "cslnb.showCausalImpact(d, 'cancer', 'smoking', values={'smoking':1})\n",
    "cslnb.showCausalImpact(d, 'cancer', 'smoking', values={'smoking':0})\n",
    "\n",
    "csl.CausalImpact(d, \"cancer\", \"smoking\")"
   ]
  },
  {
   "cell_type": "code",
   "execution_count": 11,
   "metadata": {},
   "outputs": [
    {
     "data": {
      "text/html": [
       "<table style=\"border-style: hidden; border-collapse: collapse;\" width=\"100%\"><tr><td style=\"border-top:hidden;border-bottom:hidden;\"><div align=\"center\" style=\"\"><svg height=\"180pt\" viewBox=\"0.00 0.00 93.63 180.00\" width=\"94pt\" xmlns=\"http://www.w3.org/2000/svg\" xmlns:xlink=\"http://www.w3.org/1999/xlink\">\n",
       "<g class=\"graph\" id=\"graph0\" transform=\"scale(.7909 .7909) rotate(0) translate(4 223.6)\">\n",
       "<title>G</title>\n",
       "<polygon fill=\"#ffffff\" points=\"-4,4 -4,-223.6 114.3933,-223.6 114.3933,4 -4,4\" stroke=\"transparent\"/>\n",
       "<!-- smoking -->\n",
       "<g class=\"node\" id=\"node1\">\n",
       "<title>smoking</title>\n",
       "<ellipse cx=\"41.5963\" cy=\"-162\" fill=\"#404040\" rx=\"41.6928\" ry=\"18\" stroke=\"#000000\"/>\n",
       "<text fill=\"#ffffff\" font-family=\"Times,serif\" font-size=\"14.00\" text-anchor=\"middle\" x=\"41.5963\" y=\"-158.3\">smoking</text>\n",
       "</g>\n",
       "<!-- tar -->\n",
       "<g class=\"node\" id=\"node2\">\n",
       "<title>tar</title>\n",
       "<ellipse cx=\"49.5963\" cy=\"-90\" fill=\"#404040\" rx=\"27\" ry=\"18\" stroke=\"#000000\"/>\n",
       "<text fill=\"#ffffff\" font-family=\"Times,serif\" font-size=\"14.00\" text-anchor=\"middle\" x=\"49.5963\" y=\"-86.3\">tar</text>\n",
       "</g>\n",
       "<!-- smoking&#45;&gt;tar -->\n",
       "<g class=\"edge\" id=\"edge1\">\n",
       "<title>smoking-&gt;tar</title>\n",
       "<path d=\"M42.6212,-143.7209C43.4768,-136.0205 44.4942,-126.8639 45.445,-118.3062\" fill=\"none\" stroke=\"#000000\"/>\n",
       "<path d=\"M44.6089,-143.9418C45.4645,-136.2414 46.4819,-127.0848 47.4328,-118.5271\" fill=\"none\" stroke=\"#000000\"/>\n",
       "<polygon fill=\"#000000\" points=\"49.9246,-118.7386 47.5504,-108.4133 42.9674,-117.9656 49.9246,-118.7386\" stroke=\"#000000\"/>\n",
       "</g>\n",
       "<!-- cancer -->\n",
       "<g class=\"node\" id=\"node3\">\n",
       "<title>cancer</title>\n",
       "<ellipse cx=\"76.5963\" cy=\"-18\" fill=\"#404040\" rx=\"33.5952\" ry=\"18\" stroke=\"#000000\"/>\n",
       "<text fill=\"#ffffff\" font-family=\"Times,serif\" font-size=\"14.00\" text-anchor=\"middle\" x=\"76.5963\" y=\"-14.3\">cancer</text>\n",
       "</g>\n",
       "<!-- tar&#45;&gt;cancer -->\n",
       "<g class=\"edge\" id=\"edge4\">\n",
       "<title>tar-&gt;cancer</title>\n",
       "<path d=\"M55.3341,-71.8511C58.3847,-63.7164 62.0662,-53.899 65.4532,-44.867\" fill=\"none\" stroke=\"#000000\"/>\n",
       "<path d=\"M57.2068,-72.5534C60.2573,-64.4186 63.9388,-54.6012 67.3258,-45.5693\" fill=\"none\" stroke=\"#000000\"/>\n",
       "<polygon fill=\"#000000\" points=\"69.6712,-46.4348 69.9054,-35.8425 63.1169,-43.9769 69.6712,-46.4348\" stroke=\"#000000\"/>\n",
       "</g>\n",
       "<!-- genes -->\n",
       "<g class=\"node\" id=\"node4\">\n",
       "<title>genes</title>\n",
       "<ellipse cx=\"76.5963\" cy=\"-217.8\" fill=\"#a08080\" rx=\"1.8\" ry=\"1.8\" stroke=\"#000000\"/>\n",
       "</g>\n",
       "<!-- genes&#45;&gt;smoking -->\n",
       "<g class=\"edge\" id=\"edge2\">\n",
       "<title>genes-&gt;smoking</title>\n",
       "<path d=\"M75.4318,-215.9434C72.6151,-211.4528 65.1326,-199.5236 57.9184,-188.022\" fill=\"none\" stroke=\"#000000\" stroke-dasharray=\"5,2\"/>\n",
       "<polygon fill=\"#000000\" points=\"60.8142,-186.0519 52.5355,-179.4403 54.8842,-189.7715 60.8142,-186.0519\" stroke=\"#000000\"/>\n",
       "</g>\n",
       "<!-- genes&#45;&gt;cancer -->\n",
       "<g class=\"edge\" id=\"edge3\">\n",
       "<title>genes-&gt;cancer</title>\n",
       "<path d=\"M77.5855,-216.146C80.5909,-211.0124 89.5919,-194.8057 92.5963,-180 102.0295,-133.5139 92.2165,-78.3499 84.3387,-45.8673\" fill=\"none\" stroke=\"#000000\" stroke-dasharray=\"5,2\"/>\n",
       "<polygon fill=\"#000000\" points=\"87.7272,-44.9903 81.8759,-36.1578 80.9421,-46.7114 87.7272,-44.9903\" stroke=\"#000000\"/>\n",
       "</g>\n",
       "</g>\n",
       "</svg></div></td><td style=\"border-top:hidden;border-bottom:hidden;\"><div align=\"center\" style=\"\">$$\\begin{equation}P( cancer \\mid \\hookrightarrow\\mkern-6.5musmoking) = \\sum_{tar}{P\\left(tar\\mid smoking\\right) \\cdot \\left(\\sum_{smoking'}{P\\left(cancer\\mid smoking',tar\\right) \\cdot P\\left(smoking'\\right)}\\right)}\\end{equation}$$</div></td><td style=\"border-top:hidden;border-bottom:hidden;\"><div align=\"center\" style=\"\"><table style=\"border:1px solid black;\">\n",
       "<tr style='border:1px solid black;color:black;background-color:#808080'><th colspan='2'><center>cancer</center></th></tr>\n",
       "<tr><th style='border:1px solid black;border-bottom-style: double;color:black;background-color:#BBBBBB'><center>0</center></th><th style='border:1px solid black;border-bottom-style: double;color:black;background-color:#BBBBBB'><center>1</center></th></tr>\n",
       "<tr><td style='color:black;background-color:#91ec64;text-align:right;'>0.8525</td><td style='color:black;background-color:#ec9164;text-align:right;'>0.1475</td></tr>\n",
       "</table></div></td></tr><tr><td style=\"border-top:hidden;border-bottom:hidden;\"><div align=\"center\"><small>Causal Model</small></div></td><td style=\"border-top:hidden;border-bottom:hidden;\"><div align=\"center\"><small>Explanation : frontdoor ['tar'] found.</small></div></td><td style=\"border-top:hidden;border-bottom:hidden;\"><div align=\"center\"><small>Impact : $P( cancer \\mid \\hookrightarrow\\mkern-6.5musmoking=1)$</small></div></td></tr></table>"
      ],
      "text/plain": [
       "<IPython.core.display.HTML object>"
      ]
     },
     "metadata": {},
     "output_type": "display_data"
    },
    {
     "data": {
      "text/html": [
       "<table style=\"border-style: hidden; border-collapse: collapse;\" width=\"100%\"><tr><td style=\"border-top:hidden;border-bottom:hidden;\"><div align=\"center\" style=\"\"><svg height=\"180pt\" viewBox=\"0.00 0.00 93.63 180.00\" width=\"94pt\" xmlns=\"http://www.w3.org/2000/svg\" xmlns:xlink=\"http://www.w3.org/1999/xlink\">\n",
       "<g class=\"graph\" id=\"graph0\" transform=\"scale(.7909 .7909) rotate(0) translate(4 223.6)\">\n",
       "<title>G</title>\n",
       "<polygon fill=\"#ffffff\" points=\"-4,4 -4,-223.6 114.3933,-223.6 114.3933,4 -4,4\" stroke=\"transparent\"/>\n",
       "<!-- smoking -->\n",
       "<g class=\"node\" id=\"node1\">\n",
       "<title>smoking</title>\n",
       "<ellipse cx=\"41.5963\" cy=\"-162\" fill=\"#404040\" rx=\"41.6928\" ry=\"18\" stroke=\"#000000\"/>\n",
       "<text fill=\"#ffffff\" font-family=\"Times,serif\" font-size=\"14.00\" text-anchor=\"middle\" x=\"41.5963\" y=\"-158.3\">smoking</text>\n",
       "</g>\n",
       "<!-- tar -->\n",
       "<g class=\"node\" id=\"node2\">\n",
       "<title>tar</title>\n",
       "<ellipse cx=\"49.5963\" cy=\"-90\" fill=\"#404040\" rx=\"27\" ry=\"18\" stroke=\"#000000\"/>\n",
       "<text fill=\"#ffffff\" font-family=\"Times,serif\" font-size=\"14.00\" text-anchor=\"middle\" x=\"49.5963\" y=\"-86.3\">tar</text>\n",
       "</g>\n",
       "<!-- smoking&#45;&gt;tar -->\n",
       "<g class=\"edge\" id=\"edge1\">\n",
       "<title>smoking-&gt;tar</title>\n",
       "<path d=\"M42.6212,-143.7209C43.4768,-136.0205 44.4942,-126.8639 45.445,-118.3062\" fill=\"none\" stroke=\"#000000\"/>\n",
       "<path d=\"M44.6089,-143.9418C45.4645,-136.2414 46.4819,-127.0848 47.4328,-118.5271\" fill=\"none\" stroke=\"#000000\"/>\n",
       "<polygon fill=\"#000000\" points=\"49.9246,-118.7386 47.5504,-108.4133 42.9674,-117.9656 49.9246,-118.7386\" stroke=\"#000000\"/>\n",
       "</g>\n",
       "<!-- cancer -->\n",
       "<g class=\"node\" id=\"node3\">\n",
       "<title>cancer</title>\n",
       "<ellipse cx=\"76.5963\" cy=\"-18\" fill=\"#404040\" rx=\"33.5952\" ry=\"18\" stroke=\"#000000\"/>\n",
       "<text fill=\"#ffffff\" font-family=\"Times,serif\" font-size=\"14.00\" text-anchor=\"middle\" x=\"76.5963\" y=\"-14.3\">cancer</text>\n",
       "</g>\n",
       "<!-- tar&#45;&gt;cancer -->\n",
       "<g class=\"edge\" id=\"edge4\">\n",
       "<title>tar-&gt;cancer</title>\n",
       "<path d=\"M55.3341,-71.8511C58.3847,-63.7164 62.0662,-53.899 65.4532,-44.867\" fill=\"none\" stroke=\"#000000\"/>\n",
       "<path d=\"M57.2068,-72.5534C60.2573,-64.4186 63.9388,-54.6012 67.3258,-45.5693\" fill=\"none\" stroke=\"#000000\"/>\n",
       "<polygon fill=\"#000000\" points=\"69.6712,-46.4348 69.9054,-35.8425 63.1169,-43.9769 69.6712,-46.4348\" stroke=\"#000000\"/>\n",
       "</g>\n",
       "<!-- genes -->\n",
       "<g class=\"node\" id=\"node4\">\n",
       "<title>genes</title>\n",
       "<ellipse cx=\"76.5963\" cy=\"-217.8\" fill=\"#a08080\" rx=\"1.8\" ry=\"1.8\" stroke=\"#000000\"/>\n",
       "</g>\n",
       "<!-- genes&#45;&gt;smoking -->\n",
       "<g class=\"edge\" id=\"edge2\">\n",
       "<title>genes-&gt;smoking</title>\n",
       "<path d=\"M75.4318,-215.9434C72.6151,-211.4528 65.1326,-199.5236 57.9184,-188.022\" fill=\"none\" stroke=\"#000000\" stroke-dasharray=\"5,2\"/>\n",
       "<polygon fill=\"#000000\" points=\"60.8142,-186.0519 52.5355,-179.4403 54.8842,-189.7715 60.8142,-186.0519\" stroke=\"#000000\"/>\n",
       "</g>\n",
       "<!-- genes&#45;&gt;cancer -->\n",
       "<g class=\"edge\" id=\"edge3\">\n",
       "<title>genes-&gt;cancer</title>\n",
       "<path d=\"M77.5855,-216.146C80.5909,-211.0124 89.5919,-194.8057 92.5963,-180 102.0295,-133.5139 92.2165,-78.3499 84.3387,-45.8673\" fill=\"none\" stroke=\"#000000\" stroke-dasharray=\"5,2\"/>\n",
       "<polygon fill=\"#000000\" points=\"87.7272,-44.9903 81.8759,-36.1578 80.9421,-46.7114 87.7272,-44.9903\" stroke=\"#000000\"/>\n",
       "</g>\n",
       "</g>\n",
       "</svg></div></td><td style=\"border-top:hidden;border-bottom:hidden;\"><div align=\"center\" style=\"\">$$\\begin{equation}P( cancer \\mid \\hookrightarrow\\mkern-6.5musmoking) = \\sum_{tar}{P\\left(tar\\mid smoking\\right) \\cdot \\left(\\sum_{smoking'}{P\\left(cancer\\mid smoking',tar\\right) \\cdot P\\left(smoking'\\right)}\\right)}\\end{equation}$$</div></td><td style=\"border-top:hidden;border-bottom:hidden;\"><div align=\"center\" style=\"\"><table style=\"border:1px solid black;\">\n",
       "<tr style='border:1px solid black;color:black;background-color:#808080'><th colspan='2'><center>cancer</center></th></tr>\n",
       "<tr><th style='border:1px solid black;border-bottom-style: double;color:black;background-color:#BBBBBB'><center>0</center></th><th style='border:1px solid black;border-bottom-style: double;color:black;background-color:#BBBBBB'><center>1</center></th></tr>\n",
       "<tr><td style='color:black;background-color:#8cf164;text-align:right;'>0.8975</td><td style='color:black;background-color:#f18c64;text-align:right;'>0.1025</td></tr>\n",
       "</table></div></td></tr><tr><td style=\"border-top:hidden;border-bottom:hidden;\"><div align=\"center\"><small>Causal Model</small></div></td><td style=\"border-top:hidden;border-bottom:hidden;\"><div align=\"center\"><small>Explanation : frontdoor ['tar'] found.</small></div></td><td style=\"border-top:hidden;border-bottom:hidden;\"><div align=\"center\"><small>Impact : $P( cancer \\mid \\hookrightarrow\\mkern-6.5musmoking=0)$</small></div></td></tr></table>"
      ],
      "text/plain": [
       "<IPython.core.display.HTML object>"
      ]
     },
     "metadata": {},
     "output_type": "display_data"
    },
    {
     "data": {
      "text/plain": [
       "(<pyAgrum.causal._CausalFormula.CausalFormula at 0x7fc0ebf05588>,\n",
       " (gum::Potential<double>@0x55836bbeab50) <cancer:0|smoking:0> :: 0.8975 /<cancer:1|smoking:0> :: 0.1025 /<cancer:0|smoking:1> :: 0.8525 /<cancer:1|smoking:1> :: 0.1475,\n",
       " \"frontdoor ['tar'] found.\")"
      ]
     },
     "execution_count": 11,
     "metadata": {},
     "output_type": "execute_result"
    }
   ],
   "source": [
    "# example from the book -- page 66 - 68\n",
    "\n",
    "from IPython.display import display, Math, Latex, HTML\n",
    "\n",
    "import pyAgrum as gum\n",
    "import pyAgrum.lib.notebook as gnb\n",
    "import pyAgrum.causal as csl\n",
    "import pyAgrum.causal.notebook as cslnb\n",
    "\n",
    "# Smoking causes cancer?\n",
    "\n",
    "# s is smoking, t is tar deposits, c is lung cancer\n",
    "bn = gum.fastBN(\"smoking->tar->cancer\")\n",
    "\n",
    "# conditional probabilities table\n",
    "bn.cpt('smoking')[:] = [0.5, 0.5]\n",
    "\n",
    "bn.cpt('tar')[{'smoking':0}] = [380/400, 20/400]\n",
    "bn.cpt('tar')[{'smoking':1}] = [20/400, 380/400]\n",
    "\n",
    "bn.cpt('cancer')[{'smoking':0, 'tar':0}] = [38/380, 342/380]\n",
    "bn.cpt('cancer')[{'smoking':0, 'tar':1}] = [1/20, 19/20]\n",
    "bn.cpt('cancer')[{'smoking':1, 'tar':0}] = [18/20, 2/20]\n",
    "bn.cpt('cancer')[{'smoking':1, 'tar':1}] = [323/380, 57/380]\n",
    "\n",
    "# bn\n",
    "# bn.cpt('cancer')\n",
    "\n",
    "# Causal Model\n",
    "\n",
    "d = csl.CausalModel(bn, [('genes', ['smoking', 'cancer'])])\n",
    "\n",
    "cslnb.showCausalImpact(d, 'cancer', 'smoking', values={'smoking':1})\n",
    "cslnb.showCausalImpact(d, 'cancer', 'smoking', values={'smoking':0})\n",
    "\n",
    "csl.causalImpact(d, \"cancer\", \"smoking\")"
   ]
  },
  {
   "cell_type": "code",
   "execution_count": 12,
   "metadata": {},
   "outputs": [
    {
     "ename": "TypeError",
     "evalue": "unsupported operand type(s) for |: 'set' and 'dict'",
     "output_type": "error",
     "traceback": [
      "\u001b[0;31m---------------------------------------------------------------------------\u001b[0m",
      "\u001b[0;31mTypeError\u001b[0m                                 Traceback (most recent call last)",
      "\u001b[0;32m<ipython-input-12-7483ebf6d99f>\u001b[0m in \u001b[0;36m<module>\u001b[0;34m\u001b[0m\n\u001b[0;32m----> 1\u001b[0;31m \u001b[0mcsl\u001b[0m\u001b[0;34m.\u001b[0m\u001b[0mcausalImpact\u001b[0m\u001b[0;34m(\u001b[0m\u001b[0md\u001b[0m\u001b[0;34m,\u001b[0m \u001b[0;34m\"cancer\"\u001b[0m\u001b[0;34m,\u001b[0m \u001b[0;34m\"smoking\"\u001b[0m\u001b[0;34m,\u001b[0m \u001b[0;34m{\u001b[0m\u001b[0;34m'smoking'\u001b[0m\u001b[0;34m:\u001b[0m \u001b[0;36m1\u001b[0m\u001b[0;34m}\u001b[0m\u001b[0;34m)\u001b[0m\u001b[0;34m\u001b[0m\u001b[0;34m\u001b[0m\u001b[0m\n\u001b[0m",
      "\u001b[0;32m~/anaconda3/lib/python3.7/site-packages/pyAgrum/causal/_causalImpact.py\u001b[0m in \u001b[0;36mcausalImpact\u001b[0;34m(cm, on, doing, knowing, values)\u001b[0m\n\u001b[1;32m     70\u001b[0m \u001b[0;34m\u001b[0m\u001b[0m\n\u001b[1;32m     71\u001b[0m   total = {cm.observationalBN().variable(cm.observationalBN().idFromName(i)).name()\n\u001b[0;32m---> 72\u001b[0;31m            for i in son | sdoing | sk}\n\u001b[0m\u001b[1;32m     73\u001b[0m \u001b[0;34m\u001b[0m\u001b[0m\n\u001b[1;32m     74\u001b[0m   \u001b[0;32mif\u001b[0m \u001b[0mvalues\u001b[0m \u001b[0;32mis\u001b[0m \u001b[0;32mnot\u001b[0m \u001b[0;32mNone\u001b[0m\u001b[0;34m:\u001b[0m\u001b[0;34m\u001b[0m\u001b[0;34m\u001b[0m\u001b[0m\n",
      "\u001b[0;31mTypeError\u001b[0m: unsupported operand type(s) for |: 'set' and 'dict'"
     ]
    }
   ],
   "source": [
    "csl.causalImpact(d, \"cancer\", \"smoking\", {'smoking': 1})"
   ]
  },
  {
   "cell_type": "code",
   "execution_count": 13,
   "metadata": {},
   "outputs": [
    {
     "data": {
      "text/plain": [
       "(<pyAgrum.causal._CausalFormula.CausalFormula at 0x7fc106f1aa90>,\n",
       " (gum::Potential<double>@0x55836b806320) <cancer:0> :: 0.8525 /<cancer:1> :: 0.1475,\n",
       " \"frontdoor ['tar'] found.\")"
      ]
     },
     "execution_count": 13,
     "metadata": {},
     "output_type": "execute_result"
    }
   ],
   "source": [
    "csl.causalImpact(d, \"cancer\", \"smoking\", \"\", {'smoking': 1})"
   ]
  },
  {
   "cell_type": "code",
   "execution_count": 14,
   "metadata": {},
   "outputs": [
    {
     "ename": "AttributeError",
     "evalue": "'tuple' object has no attribute 'toLatex'",
     "output_type": "error",
     "traceback": [
      "\u001b[0;31m---------------------------------------------------------------------------\u001b[0m",
      "\u001b[0;31mAttributeError\u001b[0m                            Traceback (most recent call last)",
      "\u001b[0;32m<ipython-input-14-6a1842f1aa52>\u001b[0m in \u001b[0;36m<module>\u001b[0;34m\u001b[0m\n\u001b[1;32m      1\u001b[0m \u001b[0mci\u001b[0m \u001b[0;34m=\u001b[0m \u001b[0mcsl\u001b[0m\u001b[0;34m.\u001b[0m\u001b[0mcausalImpact\u001b[0m\u001b[0;34m(\u001b[0m\u001b[0md\u001b[0m\u001b[0;34m,\u001b[0m \u001b[0;34m\"cancer\"\u001b[0m\u001b[0;34m,\u001b[0m \u001b[0;34m\"smoking\"\u001b[0m\u001b[0;34m,\u001b[0m \u001b[0;34m\"\"\u001b[0m\u001b[0;34m,\u001b[0m \u001b[0;34m{\u001b[0m\u001b[0;34m'smoking'\u001b[0m\u001b[0;34m:\u001b[0m \u001b[0;36m1\u001b[0m\u001b[0;34m}\u001b[0m\u001b[0;34m)\u001b[0m\u001b[0;34m\u001b[0m\u001b[0;34m\u001b[0m\u001b[0m\n\u001b[0;32m----> 2\u001b[0;31m \u001b[0mdisplay\u001b[0m\u001b[0;34m(\u001b[0m\u001b[0mMath\u001b[0m\u001b[0;34m(\u001b[0m\u001b[0mci\u001b[0m\u001b[0;34m.\u001b[0m\u001b[0mtoLatex\u001b[0m\u001b[0;34m(\u001b[0m\u001b[0;34m)\u001b[0m\u001b[0;34m)\u001b[0m\u001b[0;34m)\u001b[0m\u001b[0;34m\u001b[0m\u001b[0;34m\u001b[0m\u001b[0m\n\u001b[0m",
      "\u001b[0;31mAttributeError\u001b[0m: 'tuple' object has no attribute 'toLatex'"
     ]
    }
   ],
   "source": [
    "ci = csl.causalImpact(d, \"cancer\", \"smoking\", \"\", {'smoking': 1})\n",
    "display(Math(ci.toLatex()))"
   ]
  },
  {
   "cell_type": "code",
   "execution_count": null,
   "metadata": {},
   "outputs": [],
   "source": []
  }
 ],
 "metadata": {
  "kernelspec": {
   "display_name": "Python 3",
   "language": "python",
   "name": "python3"
  },
  "language_info": {
   "codemirror_mode": {
    "name": "ipython",
    "version": 3
   },
   "file_extension": ".py",
   "mimetype": "text/x-python",
   "name": "python",
   "nbconvert_exporter": "python",
   "pygments_lexer": "ipython3",
   "version": "3.7.3"
  }
 },
 "nbformat": 4,
 "nbformat_minor": 2
}
