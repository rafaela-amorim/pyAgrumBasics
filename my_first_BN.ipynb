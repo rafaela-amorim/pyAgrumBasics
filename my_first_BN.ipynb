{
 "cells": [
  {
   "cell_type": "code",
   "execution_count": 1,
   "metadata": {},
   "outputs": [
    {
     "name": "stdout",
     "output_type": "stream",
     "text": [
      "BN{nodes: 0, arcs: 0, domainSize: 1, dim: 0}\n",
      "0\n",
      "1 2 3\n",
      "BN{nodes: 4, arcs: 0, domainSize: 16, dim: 8}\n",
      "Now adding the edges:\n",
      "BN{nodes: 4, arcs: 4, domainSize: 16, dim: 18}\n"
     ]
    },
    {
     "ename": "TypeError",
     "evalue": "Wrong number or type of arguments for overloaded function 'Potential_fillWith'.\n  Possible C/C++ prototypes are:\n    gum::Potential< double >::fillWith(gum::Potential< double > const &) const\n    gum::Potential< double >::fillWith(gum::Potential< double > const &,std::vector< std::string,std::allocator< std::string > > const &) const\n    gum::Potential< double >::fillWith(std::vector< double,std::allocator< double > > const &) const\n    gum::Potential< double >::fillWith(double const &) const\n",
     "output_type": "error",
     "traceback": [
      "\u001b[0;31m-----------------------------------------------------------------------\u001b[0m",
      "\u001b[0;31mTypeError\u001b[0m                             Traceback (most recent call last)",
      "\u001b[0;32m<ipython-input-1-d3ca98e7006b>\u001b[0m in \u001b[0;36m<module>\u001b[0;34m\u001b[0m\n\u001b[1;32m     44\u001b[0m \u001b[0;34m\u001b[0m\u001b[0m\n\u001b[1;32m     45\u001b[0m \u001b[0;31m# Conditional Probabilities Table (CPT)\u001b[0m\u001b[0;34m\u001b[0m\u001b[0;34m\u001b[0m\u001b[0;34m\u001b[0m\u001b[0m\n\u001b[0;32m---> 46\u001b[0;31m \u001b[0mbn\u001b[0m\u001b[0;34m.\u001b[0m\u001b[0mcpt\u001b[0m\u001b[0;34m(\u001b[0m\u001b[0mc\u001b[0m\u001b[0;34m)\u001b[0m\u001b[0;34m.\u001b[0m\u001b[0mfillWith\u001b[0m\u001b[0;34m(\u001b[0m\u001b[0;34m[\u001b[0m\u001b[0;36m0.5\u001b[0m\u001b[0;34m]\u001b[0m\u001b[0;34m,\u001b[0m\u001b[0;34m[\u001b[0m\u001b[0;36m0.5\u001b[0m\u001b[0;34m]\u001b[0m\u001b[0;34m)\u001b[0m\u001b[0;34m\u001b[0m\u001b[0;34m\u001b[0m\u001b[0m\n\u001b[0m",
      "\u001b[0;32m~/anaconda3/lib/python3.7/site-packages/pyAgrum/pyAgrum.py\u001b[0m in \u001b[0;36mfillWith\u001b[0;34m(self, *args)\u001b[0m\n\u001b[1;32m   8072\u001b[0m \u001b[0;34m\u001b[0m\u001b[0m\n\u001b[1;32m   8073\u001b[0m         \"\"\"\n\u001b[0;32m-> 8074\u001b[0;31m         \u001b[0mval\u001b[0m \u001b[0;34m=\u001b[0m \u001b[0m_pyAgrum\u001b[0m\u001b[0;34m.\u001b[0m\u001b[0mPotential_fillWith\u001b[0m\u001b[0;34m(\u001b[0m\u001b[0mself\u001b[0m\u001b[0;34m,\u001b[0m \u001b[0;34m*\u001b[0m\u001b[0margs\u001b[0m\u001b[0;34m)\u001b[0m\u001b[0;34m\u001b[0m\u001b[0;34m\u001b[0m\u001b[0m\n\u001b[0m\u001b[1;32m   8075\u001b[0m \u001b[0;34m\u001b[0m\u001b[0m\n\u001b[1;32m   8076\u001b[0m         \u001b[0mself\u001b[0m\u001b[0;34m.\u001b[0m\u001b[0m_notSync\u001b[0m\u001b[0;34m=\u001b[0m\u001b[0;32mTrue\u001b[0m\u001b[0;34m\u001b[0m\u001b[0;34m\u001b[0m\u001b[0m\n",
      "\u001b[0;31mTypeError\u001b[0m: Wrong number or type of arguments for overloaded function 'Potential_fillWith'.\n  Possible C/C++ prototypes are:\n    gum::Potential< double >::fillWith(gum::Potential< double > const &) const\n    gum::Potential< double >::fillWith(gum::Potential< double > const &,std::vector< std::string,std::allocator< std::string > > const &) const\n    gum::Potential< double >::fillWith(std::vector< double,std::allocator< double > > const &) const\n    gum::Potential< double >::fillWith(double const &) const\n"
     ]
    }
   ],
   "source": [
    "# this example comes from:\n",
    "# http://www-desir.lip6.fr/~phw/aGrUM/docs/last/notebooks/01-tutorial.ipynb.html\n",
    "\n",
    "%matplotlib inline\n",
    "from pylab import *\n",
    "import matplotlib.pyplot as plt\n",
    "import os\n",
    "\n",
    "import pyAgrum as gum\n",
    "# import pyAgrum.lib.notebook as gnb\n",
    "\n",
    "# create an empty Bayesian Network (BN)\n",
    "bn = gum.BayesNet('WaterSprinkler')\n",
    "print (bn)\n",
    "\n",
    "# bernoulli variable to say if it's cloudy or not\n",
    "c = bn.add(gum.LabelizedVariable('c', 'cloudy?', 2)) # name, label of the variable, how many values\n",
    "# numeric id of c\n",
    "print (c)\n",
    "\n",
    "# more bernoulli variables\n",
    "s = bn.add(gum.LabelizedVariable('s', 'sprinkler?', 2))\n",
    "r = bn.add(gum.LabelizedVariable('r', 'raining?', 2))\n",
    "w = bn.add(gum.LabelizedVariable('w', 'wet grass?', 2))\n",
    "print (s,r,w)   # more numeric ids\n",
    "\n",
    "# how the BN is now\n",
    "print (bn)\n",
    "\n",
    "#    Creating the arcs    #\n",
    "\n",
    "print (\"Now adding the edges:\")\n",
    "# directed edge from c to s\n",
    "bn.addArc(c, s) \n",
    "\n",
    "for link in [(c,r), (s,w), (r,w)]:\n",
    "    bn.addArc(*link)    # a pointer for the tuples in the array!!\n",
    "\n",
    "print (bn)\n",
    "import pyAgrum.lib.notebook as gnb\n",
    "bn\n",
    "\n",
    "#   Create the probability tables   #\n",
    "\n",
    "# Conditional Probabilities Table (CPT)\n",
    "bn.cpt(c).fillWith([0.5],[0.5])"
   ]
  },
  {
   "cell_type": "code",
   "execution_count": 2,
   "metadata": {},
   "outputs": [
    {
     "name": "stdout",
     "output_type": "stream",
     "text": [
      "BN{nodes: 0, arcs: 0, domainSize: 1, dim: 0}\n",
      "0\n",
      "1 2 3\n",
      "BN{nodes: 4, arcs: 0, domainSize: 16, dim: 8}\n",
      "Now adding the edges:\n",
      "BN{nodes: 4, arcs: 4, domainSize: 16, dim: 18}\n"
     ]
    },
    {
     "data": {
      "text/html": [
       "<table style=\"border:1px solid black;\">\n",
       "<tr style='border:1px solid black;color:black;background-color:#808080'><th colspan='2'><center>c</center></th></tr>\n",
       "<tr><th style='border:1px solid black;border-bottom-style: double;color:black;background-color:#BBBBBB'><center>0</center></th><th style='border:1px solid black;border-bottom-style: double;color:black;background-color:#BBBBBB'><center>1</center></th></tr>\n",
       "<tr><td style='color:black;background-color:#bfbf64;text-align:right;'>0.5000</td><td style='color:black;background-color:#bfbf64;text-align:right;'>0.5000</td></tr>\n",
       "</table>"
      ],
      "text/plain": [
       "(gum::Potential<double>@0x55e6e628c480) <c:0> :: 0.5 /<c:1> :: 0.5"
      ]
     },
     "execution_count": 2,
     "metadata": {},
     "output_type": "execute_result"
    }
   ],
   "source": [
    "# this example comes from:\n",
    "# http://www-desir.lip6.fr/~phw/aGrUM/docs/last/notebooks/01-tutorial.ipynb.html\n",
    "\n",
    "%matplotlib inline\n",
    "from pylab import *\n",
    "import matplotlib.pyplot as plt\n",
    "import os\n",
    "\n",
    "import pyAgrum as gum\n",
    "# import pyAgrum.lib.notebook as gnb\n",
    "\n",
    "# create an empty Bayesian Network (BN)\n",
    "bn = gum.BayesNet('WaterSprinkler')\n",
    "print (bn)\n",
    "\n",
    "# bernoulli variable to say if it's cloudy or not\n",
    "c = bn.add(gum.LabelizedVariable('c', 'cloudy?', 2)) # name, label of the variable, how many values\n",
    "# numeric id of c\n",
    "print (c)\n",
    "\n",
    "# more bernoulli variables\n",
    "s = bn.add(gum.LabelizedVariable('s', 'sprinkler?', 2))\n",
    "r = bn.add(gum.LabelizedVariable('r', 'raining?', 2))\n",
    "w = bn.add(gum.LabelizedVariable('w', 'wet grass?', 2))\n",
    "print (s,r,w)   # more numeric ids\n",
    "\n",
    "# how the BN is now\n",
    "print (bn)\n",
    "\n",
    "#    Creating the arcs    #\n",
    "\n",
    "print (\"Now adding the edges:\")\n",
    "# directed edge from c to s\n",
    "bn.addArc(c, s) \n",
    "\n",
    "for link in [(c,r), (s,w), (r,w)]:\n",
    "    bn.addArc(*link)    # a pointer for the tuples in the array!!\n",
    "\n",
    "print (bn)\n",
    "import pyAgrum.lib.notebook as gnb\n",
    "bn\n",
    "\n",
    "#   Create the probability tables   #\n",
    "\n",
    "# Conditional Probabilities Table (CPT)\n",
    "bn.cpt(c).fillWith([0.5,0.5])"
   ]
  },
  {
   "cell_type": "code",
   "execution_count": 3,
   "metadata": {},
   "outputs": [
    {
     "data": {
      "text/html": [
       "<svg height=\"188pt\" viewBox=\"0.00 0.00 134.00 188.00\" width=\"134pt\" xmlns=\"http://www.w3.org/2000/svg\" xmlns:xlink=\"http://www.w3.org/1999/xlink\">\n",
       "<g class=\"graph\" id=\"graph0\" transform=\"scale(1 1) rotate(0) translate(4 184)\">\n",
       "<title>G</title>\n",
       "<!-- c -->\n",
       "<g class=\"node\" id=\"node1\">\n",
       "<title>c</title>\n",
       "<g id=\"a_node1\"><a xlink:title=\"(0) c\">\n",
       "<ellipse cx=\"63\" cy=\"-162\" fill=\"#404040\" rx=\"27\" ry=\"18\" stroke=\"#000000\"/>\n",
       "<text fill=\"#ffffff\" font-family=\"Times,serif\" font-size=\"14.00\" text-anchor=\"middle\" x=\"63\" y=\"-158.3\">c</text>\n",
       "</a>\n",
       "</g>\n",
       "</g>\n",
       "<!-- s -->\n",
       "<g class=\"node\" id=\"node2\">\n",
       "<title>s</title>\n",
       "<g id=\"a_node2\"><a xlink:title=\"(1) s\">\n",
       "<ellipse cx=\"27\" cy=\"-90\" fill=\"#404040\" rx=\"27\" ry=\"18\" stroke=\"#000000\"/>\n",
       "<text fill=\"#ffffff\" font-family=\"Times,serif\" font-size=\"14.00\" text-anchor=\"middle\" x=\"27\" y=\"-86.3\">s</text>\n",
       "</a>\n",
       "</g>\n",
       "</g>\n",
       "<!-- c&#45;&gt;s -->\n",
       "<g class=\"edge\" id=\"edge1\">\n",
       "<title>c-&gt;s</title>\n",
       "<g id=\"a_edge1\"><a xlink:title=\"(0, 1) : \">\n",
       "<path d=\"M54.2854,-144.5708C50.0403,-136.0807 44.8464,-125.6929 40.1337,-116.2674\" fill=\"none\" stroke=\"#4a4a4a\"/>\n",
       "<polygon fill=\"#4a4a4a\" points=\"43.237,-114.6477 35.6343,-107.2687 36.976,-117.7782 43.237,-114.6477\" stroke=\"#4a4a4a\"/>\n",
       "</a>\n",
       "</g>\n",
       "</g>\n",
       "<!-- r -->\n",
       "<g class=\"node\" id=\"node3\">\n",
       "<title>r</title>\n",
       "<g id=\"a_node3\"><a xlink:title=\"(2) r\">\n",
       "<ellipse cx=\"99\" cy=\"-90\" fill=\"#404040\" rx=\"27\" ry=\"18\" stroke=\"#000000\"/>\n",
       "<text fill=\"#ffffff\" font-family=\"Times,serif\" font-size=\"14.00\" text-anchor=\"middle\" x=\"99\" y=\"-86.3\">r</text>\n",
       "</a>\n",
       "</g>\n",
       "</g>\n",
       "<!-- c&#45;&gt;r -->\n",
       "<g class=\"edge\" id=\"edge4\">\n",
       "<title>c-&gt;r</title>\n",
       "<g id=\"a_edge4\"><a xlink:title=\"(0, 2) : \">\n",
       "<path d=\"M71.7146,-144.5708C75.9597,-136.0807 81.1536,-125.6929 85.8663,-116.2674\" fill=\"none\" stroke=\"#4a4a4a\"/>\n",
       "<polygon fill=\"#4a4a4a\" points=\"89.024,-117.7782 90.3657,-107.2687 82.763,-114.6477 89.024,-117.7782\" stroke=\"#4a4a4a\"/>\n",
       "</a>\n",
       "</g>\n",
       "</g>\n",
       "<!-- w -->\n",
       "<g class=\"node\" id=\"node4\">\n",
       "<title>w</title>\n",
       "<g id=\"a_node4\"><a xlink:title=\"(3) w\">\n",
       "<ellipse cx=\"63\" cy=\"-18\" fill=\"#404040\" rx=\"27\" ry=\"18\" stroke=\"#000000\"/>\n",
       "<text fill=\"#ffffff\" font-family=\"Times,serif\" font-size=\"14.00\" text-anchor=\"middle\" x=\"63\" y=\"-14.3\">w</text>\n",
       "</a>\n",
       "</g>\n",
       "</g>\n",
       "<!-- s&#45;&gt;w -->\n",
       "<g class=\"edge\" id=\"edge2\">\n",
       "<title>s-&gt;w</title>\n",
       "<g id=\"a_edge2\"><a xlink:title=\"(1, 3) : \">\n",
       "<path d=\"M35.7146,-72.5708C39.9597,-64.0807 45.1536,-53.6929 49.8663,-44.2674\" fill=\"none\" stroke=\"#4a4a4a\"/>\n",
       "<polygon fill=\"#4a4a4a\" points=\"53.024,-45.7782 54.3657,-35.2687 46.763,-42.6477 53.024,-45.7782\" stroke=\"#4a4a4a\"/>\n",
       "</a>\n",
       "</g>\n",
       "</g>\n",
       "<!-- r&#45;&gt;w -->\n",
       "<g class=\"edge\" id=\"edge3\">\n",
       "<title>r-&gt;w</title>\n",
       "<g id=\"a_edge3\"><a xlink:title=\"(2, 3) : \">\n",
       "<path d=\"M90.2854,-72.5708C86.0403,-64.0807 80.8464,-53.6929 76.1337,-44.2674\" fill=\"none\" stroke=\"#4a4a4a\"/>\n",
       "<polygon fill=\"#4a4a4a\" points=\"79.237,-42.6477 71.6343,-35.2687 72.976,-45.7782 79.237,-42.6477\" stroke=\"#4a4a4a\"/>\n",
       "</a>\n",
       "</g>\n",
       "</g>\n",
       "</g>\n",
       "</svg>"
      ],
      "text/plain": [
       "(gum::BayesNet<double>@0x55e6e636d700) BN{nodes: 4, arcs: 4, domainSize: 16, dim: 18}"
      ]
     },
     "execution_count": 3,
     "metadata": {},
     "output_type": "execute_result"
    }
   ],
   "source": [
    "bn\n"
   ]
  },
  {
   "cell_type": "code",
   "execution_count": 4,
   "metadata": {},
   "outputs": [
    {
     "data": {
      "text/plain": [
       "['c']"
      ]
     },
     "execution_count": 4,
     "metadata": {},
     "output_type": "execute_result"
    }
   ],
   "source": [
    "bn.cpt(\"c\").var_names\n"
   ]
  },
  {
   "cell_type": "code",
   "execution_count": 5,
   "metadata": {},
   "outputs": [
    {
     "data": {
      "text/plain": [
       "['c', 's']"
      ]
     },
     "execution_count": 5,
     "metadata": {},
     "output_type": "execute_result"
    }
   ],
   "source": [
    "bn.cpt(s).var_names"
   ]
  },
  {
   "cell_type": "code",
   "execution_count": 6,
   "metadata": {},
   "outputs": [
    {
     "ename": "TypeError",
     "evalue": "Wrong number or type of arguments for overloaded function 'BayesNet_cpt'.\n  Possible C/C++ prototypes are:\n    gum::BayesNet< double >::cpt(gum::NodeId) const\n    gum::BayesNet< double >::cpt(std::string const &) const\n",
     "output_type": "error",
     "traceback": [
      "\u001b[0;31m-----------------------------------------------------------------------\u001b[0m",
      "\u001b[0;31mTypeError\u001b[0m                             Traceback (most recent call last)",
      "\u001b[0;32m<ipython-input-6-7b2a5469042e>\u001b[0m in \u001b[0;36m<module>\u001b[0;34m\u001b[0m\n\u001b[0;32m----> 1\u001b[0;31m \u001b[0mbn\u001b[0m\u001b[0;34m.\u001b[0m\u001b[0mcpt\u001b[0m\u001b[0;34m(\u001b[0m\u001b[0;34m)\u001b[0m\u001b[0;34m.\u001b[0m\u001b[0mvar_names\u001b[0m\u001b[0;34m\u001b[0m\u001b[0;34m\u001b[0m\u001b[0m\n\u001b[0m",
      "\u001b[0;32m~/anaconda3/lib/python3.7/site-packages/pyAgrum/pyAgrum.py\u001b[0m in \u001b[0;36mcpt\u001b[0;34m(self, *args)\u001b[0m\n\u001b[1;32m   9470\u001b[0m \u001b[0;34m\u001b[0m\u001b[0m\n\u001b[1;32m   9471\u001b[0m         \"\"\"\n\u001b[0;32m-> 9472\u001b[0;31m         \u001b[0mval\u001b[0m \u001b[0;34m=\u001b[0m \u001b[0m_pyAgrum\u001b[0m\u001b[0;34m.\u001b[0m\u001b[0mBayesNet_cpt\u001b[0m\u001b[0;34m(\u001b[0m\u001b[0mself\u001b[0m\u001b[0;34m,\u001b[0m \u001b[0;34m*\u001b[0m\u001b[0margs\u001b[0m\u001b[0;34m)\u001b[0m\u001b[0;34m\u001b[0m\u001b[0;34m\u001b[0m\u001b[0m\n\u001b[0m\u001b[1;32m   9473\u001b[0m \u001b[0;34m\u001b[0m\u001b[0m\n\u001b[1;32m   9474\u001b[0m         \u001b[0mval\u001b[0m\u001b[0;34m.\u001b[0m\u001b[0m__fill_distrib__\u001b[0m\u001b[0;34m(\u001b[0m\u001b[0;34m)\u001b[0m\u001b[0;34m\u001b[0m\u001b[0;34m\u001b[0m\u001b[0m\n",
      "\u001b[0;31mTypeError\u001b[0m: Wrong number or type of arguments for overloaded function 'BayesNet_cpt'.\n  Possible C/C++ prototypes are:\n    gum::BayesNet< double >::cpt(gum::NodeId) const\n    gum::BayesNet< double >::cpt(std::string const &) const\n"
     ]
    }
   ],
   "source": [
    "bn.cpt().var_names"
   ]
  },
  {
   "cell_type": "code",
   "execution_count": 7,
   "metadata": {},
   "outputs": [
    {
     "data": {
      "text/plain": [
       "['c', 'r']"
      ]
     },
     "execution_count": 7,
     "metadata": {},
     "output_type": "execute_result"
    }
   ],
   "source": [
    "bn.cpt(r).var_names\n"
   ]
  },
  {
   "cell_type": "code",
   "execution_count": 8,
   "metadata": {},
   "outputs": [
    {
     "name": "stdout",
     "output_type": "stream",
     "text": [
      "BN{nodes: 0, arcs: 0, domainSize: 1, dim: 0}\n",
      "0\n",
      "1 2 3\n",
      "BN{nodes: 4, arcs: 0, domainSize: 16, dim: 8}\n",
      "Now adding the edges:\n",
      "BN{nodes: 4, arcs: 4, domainSize: 16, dim: 18}\n"
     ]
    }
   ],
   "source": [
    "# this example comes from:\n",
    "# http://www-desir.lip6.fr/~phw/aGrUM/docs/last/notebooks/01-tutorial.ipynb.html\n",
    "\n",
    "%matplotlib inline\n",
    "from pylab import *\n",
    "import matplotlib.pyplot as plt\n",
    "import os\n",
    "\n",
    "import pyAgrum as gum\n",
    "# import pyAgrum.lib.notebook as gnb\n",
    "\n",
    "# create an empty Bayesian Network (BN)\n",
    "bn = gum.BayesNet('WaterSprinkler')\n",
    "print (bn)\n",
    "\n",
    "# bernoulli variable to say if it's cloudy or not\n",
    "c = bn.add(gum.LabelizedVariable('c', 'cloudy?', 2)) # name, label of the variable, how many values\n",
    "# numeric id of c\n",
    "print (c)\n",
    "\n",
    "# more bernoulli variables\n",
    "s = bn.add(gum.LabelizedVariable('s', 'sprinkler?', 2))\n",
    "r = bn.add(gum.LabelizedVariable('r', 'raining?', 2))\n",
    "w = bn.add(gum.LabelizedVariable('w', 'wet grass?', 2))\n",
    "print (s,r,w)   # more numeric ids\n",
    "\n",
    "# how the BN is now\n",
    "print (bn)\n",
    "\n",
    "#    Creating the arcs    #\n",
    "\n",
    "print (\"Now adding the edges:\")\n",
    "# directed edge from c to s\n",
    "bn.addArc(c, s) \n",
    "\n",
    "for link in [(c,r), (s,w), (r,w)]:\n",
    "    bn.addArc(*link)    # a pointer for the tuples in the array!!\n",
    "\n",
    "print (bn)\n",
    "import pyAgrum.lib.notebook as gnb\n",
    "bn\n",
    "\n",
    "#   Create the probability tables   #\n",
    "\n",
    "# Conditional Probabilities Table (CPT)\n",
    "bn.cpt(c).fillWith([0.5,0.5])\n",
    "bn.cpt(s)[:] = [ [0.5, 0.5], [0.9, 0.1] ]"
   ]
  },
  {
   "cell_type": "code",
   "execution_count": 9,
   "metadata": {},
   "outputs": [
    {
     "data": {
      "text/html": [
       "<table style=\"border:1px solid black;\">\n",
       "<tr><th colspan='1'></th><th colspan='2' style='border:1px solid black;color:black;background-color:#808080;'><center>s</center></th></tr>\n",
       "<tr><th style='border:1px solid black;color:black;background-color:#808080'><center>c</center></th><th style='border:1px solid black;border-bottom-style: double;color:black;background-color:#BBBBBB'><center>0</center></th><th style='border:1px solid black;border-bottom-style: double;color:black;background-color:#BBBBBB'><center>1</center></th></tr>\n",
       "<tr><th style='border:1px solid black;color:black;background-color:#BBBBBB'><center>0</center></th><td style='color:black;background-color:#bfbf64;text-align:right;'>0.5000</td><td style='color:black;background-color:#bfbf64;text-align:right;'>0.5000</td></tr>\n",
       "<tr><th style='border:1px solid black;color:black;background-color:#BBBBBB'><center>1</center></th><td style='color:black;background-color:#8bf264;text-align:right;'>0.9000</td><td style='color:black;background-color:#f28b64;text-align:right;'>0.1000</td></tr>\n",
       "</table>"
      ],
      "text/plain": [
       "(gum::Potential<double>@0x55e6e60a9b60) <s:0|c:0> :: 0.5 /<s:1|c:0> :: 0.5 /<s:0|c:1> :: 0.9 /<s:1|c:1> :: 0.1"
      ]
     },
     "execution_count": 9,
     "metadata": {},
     "output_type": "execute_result"
    }
   ],
   "source": [
    "bn.cpt(s)"
   ]
  },
  {
   "cell_type": "code",
   "execution_count": 10,
   "metadata": {},
   "outputs": [
    {
     "data": {
      "text/html": [
       "<table style=\"border:1px solid black;\">\n",
       "<tr style='border:1px solid black;color:black;background-color:#808080'><th colspan='2'><center>c</center></th></tr>\n",
       "<tr><th style='border:1px solid black;border-bottom-style: double;color:black;background-color:#BBBBBB'><center>0</center></th><th style='border:1px solid black;border-bottom-style: double;color:black;background-color:#BBBBBB'><center>1</center></th></tr>\n",
       "<tr><td style='color:black;background-color:#bfbf64;text-align:right;'>0.5000</td><td style='color:black;background-color:#bfbf64;text-align:right;'>0.5000</td></tr>\n",
       "</table>"
      ],
      "text/plain": [
       "(gum::Potential<double>@0x55e6e5f94fa0) <c:0> :: 0.5 /<c:1> :: 0.5"
      ]
     },
     "execution_count": 10,
     "metadata": {},
     "output_type": "execute_result"
    }
   ],
   "source": [
    "bn.cpt(c)"
   ]
  },
  {
   "cell_type": "code",
   "execution_count": 11,
   "metadata": {},
   "outputs": [
    {
     "data": {
      "text/plain": [
       "['c', 's']"
      ]
     },
     "execution_count": 11,
     "metadata": {},
     "output_type": "execute_result"
    }
   ],
   "source": [
    "bn.cpt(s).var_names"
   ]
  },
  {
   "cell_type": "code",
   "execution_count": 12,
   "metadata": {},
   "outputs": [
    {
     "data": {
      "text/plain": [
       "array([0.9, 0.1])"
      ]
     },
     "execution_count": 12,
     "metadata": {},
     "output_type": "execute_result"
    }
   ],
   "source": [
    "bn.cpt(s)[1]"
   ]
  },
  {
   "cell_type": "code",
   "execution_count": 13,
   "metadata": {},
   "outputs": [],
   "source": [
    "bn.cpt(s)[0]= 0.5"
   ]
  },
  {
   "cell_type": "code",
   "execution_count": 14,
   "metadata": {},
   "outputs": [
    {
     "data": {
      "text/html": [
       "<table style=\"border:1px solid black;\">\n",
       "<tr><th colspan='1'></th><th colspan='2' style='border:1px solid black;color:black;background-color:#808080;'><center>s</center></th></tr>\n",
       "<tr><th style='border:1px solid black;color:black;background-color:#808080'><center>c</center></th><th style='border:1px solid black;border-bottom-style: double;color:black;background-color:#BBBBBB'><center>0</center></th><th style='border:1px solid black;border-bottom-style: double;color:black;background-color:#BBBBBB'><center>1</center></th></tr>\n",
       "<tr><th style='border:1px solid black;color:black;background-color:#BBBBBB'><center>0</center></th><td style='color:black;background-color:#bfbf64;text-align:right;'>0.5000</td><td style='color:black;background-color:#bfbf64;text-align:right;'>0.5000</td></tr>\n",
       "<tr><th style='border:1px solid black;color:black;background-color:#BBBBBB'><center>1</center></th><td style='color:black;background-color:#8bf264;text-align:right;'>0.9000</td><td style='color:black;background-color:#f28b64;text-align:right;'>0.1000</td></tr>\n",
       "</table>"
      ],
      "text/plain": [
       "(gum::Potential<double>@0x55e6e60a9b60) <s:0|c:0> :: 0.5 /<s:1|c:0> :: 0.5 /<s:0|c:1> :: 0.9 /<s:1|c:1> :: 0.1"
      ]
     },
     "execution_count": 14,
     "metadata": {},
     "output_type": "execute_result"
    }
   ],
   "source": [
    "bn.cpt(s)"
   ]
  },
  {
   "cell_type": "code",
   "execution_count": 15,
   "metadata": {},
   "outputs": [],
   "source": [
    "bn.cpt(s)[1] = [0.9, 0.1]"
   ]
  },
  {
   "cell_type": "code",
   "execution_count": 16,
   "metadata": {},
   "outputs": [
    {
     "data": {
      "text/html": [
       "<table style=\"border:1px solid black;\">\n",
       "<tr><th colspan='1'></th><th colspan='2' style='border:1px solid black;color:black;background-color:#808080;'><center>s</center></th></tr>\n",
       "<tr><th style='border:1px solid black;color:black;background-color:#808080'><center>c</center></th><th style='border:1px solid black;border-bottom-style: double;color:black;background-color:#BBBBBB'><center>0</center></th><th style='border:1px solid black;border-bottom-style: double;color:black;background-color:#BBBBBB'><center>1</center></th></tr>\n",
       "<tr><th style='border:1px solid black;color:black;background-color:#BBBBBB'><center>0</center></th><td style='color:black;background-color:#bfbf64;text-align:right;'>0.5000</td><td style='color:black;background-color:#bfbf64;text-align:right;'>0.5000</td></tr>\n",
       "<tr><th style='border:1px solid black;color:black;background-color:#BBBBBB'><center>1</center></th><td style='color:black;background-color:#8bf264;text-align:right;'>0.9000</td><td style='color:black;background-color:#f28b64;text-align:right;'>0.1000</td></tr>\n",
       "</table>"
      ],
      "text/plain": [
       "(gum::Potential<double>@0x55e6e60a9b60) <s:0|c:0> :: 0.5 /<s:1|c:0> :: 0.5 /<s:0|c:1> :: 0.9 /<s:1|c:1> :: 0.1"
      ]
     },
     "execution_count": 16,
     "metadata": {},
     "output_type": "execute_result"
    }
   ],
   "source": [
    "bn.cpt(s)"
   ]
  },
  {
   "cell_type": "code",
   "execution_count": 17,
   "metadata": {},
   "outputs": [
    {
     "data": {
      "text/plain": [
       "['r', 's', 'w']"
      ]
     },
     "execution_count": 17,
     "metadata": {},
     "output_type": "execute_result"
    }
   ],
   "source": [
    "bn.cpt(w).var_names"
   ]
  },
  {
   "cell_type": "code",
   "execution_count": 19,
   "metadata": {},
   "outputs": [
    {
     "data": {
      "text/plain": [
       "['c', 'r']"
      ]
     },
     "execution_count": 19,
     "metadata": {},
     "output_type": "execute_result"
    }
   ],
   "source": [
    "bn.cpt(r).var_names"
   ]
  },
  {
   "cell_type": "code",
   "execution_count": 21,
   "metadata": {},
   "outputs": [
    {
     "name": "stdout",
     "output_type": "stream",
     "text": [
      "<s:0|c:0> :: 0.5 /<s:1|c:0> :: 0.5 /<s:0|c:1> :: 0.9 /<s:1|c:1> :: 0.1\n"
     ]
    }
   ],
   "source": [
    "bn.cpt(s)[:] = [ [0.5, 0.5], [0.9, 0.1] ]\n",
    "print (bn.cpt(s))"
   ]
  },
  {
   "cell_type": "code",
   "execution_count": 22,
   "metadata": {},
   "outputs": [
    {
     "data": {
      "text/html": [
       "<table style=\"border:1px solid black;\">\n",
       "<tr><th colspan='1'></th><th colspan='2' style='border:1px solid black;color:black;background-color:#808080;'><center>s</center></th></tr>\n",
       "<tr><th style='border:1px solid black;color:black;background-color:#808080'><center>c</center></th><th style='border:1px solid black;border-bottom-style: double;color:black;background-color:#BBBBBB'><center>0</center></th><th style='border:1px solid black;border-bottom-style: double;color:black;background-color:#BBBBBB'><center>1</center></th></tr>\n",
       "<tr><th style='border:1px solid black;color:black;background-color:#BBBBBB'><center>0</center></th><td style='color:black;background-color:#bfbf64;text-align:right;'>0.5000</td><td style='color:black;background-color:#bfbf64;text-align:right;'>0.5000</td></tr>\n",
       "<tr><th style='border:1px solid black;color:black;background-color:#BBBBBB'><center>1</center></th><td style='color:black;background-color:#8bf264;text-align:right;'>0.9000</td><td style='color:black;background-color:#f28b64;text-align:right;'>0.1000</td></tr>\n",
       "</table>"
      ],
      "text/plain": [
       "(gum::Potential<double>@0x55e6e60a9b60) <s:0|c:0> :: 0.5 /<s:1|c:0> :: 0.5 /<s:0|c:1> :: 0.9 /<s:1|c:1> :: 0.1"
      ]
     },
     "execution_count": 22,
     "metadata": {},
     "output_type": "execute_result"
    }
   ],
   "source": [
    "bn.cpt(s)"
   ]
  },
  {
   "cell_type": "code",
   "execution_count": 23,
   "metadata": {},
   "outputs": [
    {
     "data": {
      "text/plain": [
       "['r', 's', 'w']"
      ]
     },
     "execution_count": 23,
     "metadata": {},
     "output_type": "execute_result"
    }
   ],
   "source": [
    "bn.cpt(w).var_names"
   ]
  },
  {
   "cell_type": "code",
   "execution_count": 24,
   "metadata": {},
   "outputs": [
    {
     "ename": "SyntaxError",
     "evalue": "can't assign to function call (<ipython-input-24-aa293ec0d0cb>, line 49)",
     "output_type": "error",
     "traceback": [
      "\u001b[0;36m  File \u001b[0;32m\"<ipython-input-24-aa293ec0d0cb>\"\u001b[0;36m, line \u001b[0;32m49\u001b[0m\n\u001b[0;31m    bn.cpt(s) = [ [0.5, 0.5], [0.9, 0.1] ]\u001b[0m\n\u001b[0m                                          ^\u001b[0m\n\u001b[0;31mSyntaxError\u001b[0m\u001b[0;31m:\u001b[0m can't assign to function call\n"
     ]
    }
   ],
   "source": [
    "# this example comes from:\n",
    "# http://www-desir.lip6.fr/~phw/aGrUM/docs/last/notebooks/01-tutorial.ipynb.html\n",
    "\n",
    "%matplotlib inline\n",
    "from pylab import *\n",
    "import matplotlib.pyplot as plt\n",
    "import os\n",
    "\n",
    "import pyAgrum as gum\n",
    "# import pyAgrum.lib.notebook as gnb\n",
    "\n",
    "# create an empty Bayesian Network (BN)\n",
    "bn = gum.BayesNet('WaterSprinkler')\n",
    "print (bn)\n",
    "\n",
    "# bernoulli variable to say if it's cloudy or not\n",
    "c = bn.add(gum.LabelizedVariable('c', 'cloudy?', 2)) # name, label of the variable, how many values\n",
    "# numeric id of c\n",
    "print (c)\n",
    "\n",
    "# more bernoulli variables\n",
    "s = bn.add(gum.LabelizedVariable('s', 'sprinkler?', 2))\n",
    "r = bn.add(gum.LabelizedVariable('r', 'raining?', 2))\n",
    "w = bn.add(gum.LabelizedVariable('w', 'wet grass?', 2))\n",
    "print (s,r,w)   # more numeric ids\n",
    "\n",
    "# how the BN is now\n",
    "print (bn)\n",
    "\n",
    "#    Creating the arcs    #\n",
    "\n",
    "print (\"Now adding the edges:\")\n",
    "# directed edge from c to s\n",
    "bn.addArc(c, s) \n",
    "\n",
    "for link in [(c,r), (s,w), (r,w)]:\n",
    "    bn.addArc(*link)    # a pointer for the tuples in the array!!\n",
    "\n",
    "print (bn)\n",
    "import pyAgrum.lib.notebook as gnb\n",
    "bn\n",
    "\n",
    "#   Create the probability tables   #\n",
    "\n",
    "# Conditional Probabilities Table (CPT)\n",
    "bn.cpt(c).fillWith([0.5,0.5])\n",
    "\n",
    "# fill different columns - 1st form\n",
    "bn.cpt(s) = [ [0.5, 0.5], [0.9, 0.1] ]\n",
    "# 2nd form\n",
    "bn.cpt(s)[0,:] = 0.5      # equivalent to [0.5, 0.5]\n",
    "bn.cpt(s)[1,:] = [0.9, 0.1]\n",
    "\n",
    "# Returns an array with the parent nodes, and the last position is the node in the parameter\n",
    "bn.cpt(s).var_names\n",
    "\n",
    "bn.cpt(w).var_names     # [r, s, w]\n",
    "bn.cpt(w)[0,0,:] = [1, 0]     # when r=0, s=0\n",
    "bn.cpt(w)[0,1,:] = [0.1, 0.9]      # r=0, s=1\n",
    "bn.cpt(w)[1,0,:] = [0.1, 0.9]      # r=1, s=0\n",
    "bn.cpt(w)[1,1,:] = [0.01, 0.09]    # r=1, s=1\n",
    "\n"
   ]
  },
  {
   "cell_type": "code",
   "execution_count": 25,
   "metadata": {},
   "outputs": [
    {
     "ename": "SyntaxError",
     "evalue": "can't assign to function call (<ipython-input-25-d13e753b7cf0>, line 1)",
     "output_type": "error",
     "traceback": [
      "\u001b[0;36m  File \u001b[0;32m\"<ipython-input-25-d13e753b7cf0>\"\u001b[0;36m, line \u001b[0;32m1\u001b[0m\n\u001b[0;31m    bn.cpt(s) = [ [0.5, 0.5], [0.9, 0.1] ]\u001b[0m\n\u001b[0m                                          ^\u001b[0m\n\u001b[0;31mSyntaxError\u001b[0m\u001b[0;31m:\u001b[0m can't assign to function call\n"
     ]
    }
   ],
   "source": [
    "bn.cpt(s) = [ [0.5, 0.5], [0.9, 0.1] ]"
   ]
  },
  {
   "cell_type": "code",
   "execution_count": 26,
   "metadata": {},
   "outputs": [],
   "source": [
    "bn.cpt(s)[:] = [ [0.5, 0.5], [0.9, 0.1] ]"
   ]
  },
  {
   "cell_type": "code",
   "execution_count": 27,
   "metadata": {},
   "outputs": [
    {
     "name": "stdout",
     "output_type": "stream",
     "text": [
      "BN{nodes: 0, arcs: 0, domainSize: 1, dim: 0}\n",
      "0\n",
      "1 2 3\n",
      "BN{nodes: 4, arcs: 0, domainSize: 16, dim: 8}\n",
      "Now adding the edges:\n",
      "BN{nodes: 4, arcs: 4, domainSize: 16, dim: 18}\n"
     ]
    }
   ],
   "source": [
    "# this example comes from:\n",
    "# http://www-desir.lip6.fr/~phw/aGrUM/docs/last/notebooks/01-tutorial.ipynb.html\n",
    "\n",
    "%matplotlib inline\n",
    "from pylab import *\n",
    "import matplotlib.pyplot as plt\n",
    "import os\n",
    "\n",
    "import pyAgrum as gum\n",
    "# import pyAgrum.lib.notebook as gnb\n",
    "\n",
    "# create an empty Bayesian Network (BN)\n",
    "bn = gum.BayesNet('WaterSprinkler')\n",
    "print (bn)\n",
    "\n",
    "# bernoulli variable to say if it's cloudy or not\n",
    "c = bn.add(gum.LabelizedVariable('c', 'cloudy?', 2)) # name, label of the variable, how many values\n",
    "# numeric id of c\n",
    "print (c)\n",
    "\n",
    "# more bernoulli variables\n",
    "s = bn.add(gum.LabelizedVariable('s', 'sprinkler?', 2))\n",
    "r = bn.add(gum.LabelizedVariable('r', 'raining?', 2))\n",
    "w = bn.add(gum.LabelizedVariable('w', 'wet grass?', 2))\n",
    "print (s,r,w)   # more numeric ids\n",
    "\n",
    "# how the BN is now\n",
    "print (bn)\n",
    "\n",
    "#    Creating the arcs    #\n",
    "\n",
    "print (\"Now adding the edges:\")\n",
    "# directed edge from c to s\n",
    "bn.addArc(c, s) \n",
    "\n",
    "for link in [(c,r), (s,w), (r,w)]:\n",
    "    bn.addArc(*link)    # a pointer for the tuples in the array!!\n",
    "\n",
    "print (bn)\n",
    "import pyAgrum.lib.notebook as gnb\n",
    "bn\n",
    "\n",
    "#   Create the probability tables   #\n",
    "\n",
    "# Conditional Probabilities Table (CPT)\n",
    "bn.cpt(c).fillWith([0.5,0.5])\n",
    "\n",
    "# fill different columns - 1st form\n",
    "bn.cpt(s)[:] = [ [0.5, 0.5], [0.9, 0.1] ]\n",
    "# 2nd form\n",
    "bn.cpt(s)[0,:] = 0.5      # equivalent to [0.5, 0.5]\n",
    "bn.cpt(s)[1,:] = [0.9, 0.1]\n",
    "\n",
    "# Returns an array with the parent nodes, and the last position is the node in the parameter\n",
    "bn.cpt(s).var_names\n",
    "\n",
    "bn.cpt(w).var_names     # [r, s, w]\n",
    "bn.cpt(w)[0,0,:] = [1, 0]     # when r=0, s=0\n",
    "bn.cpt(w)[0,1,:] = [0.1, 0.9]      # r=0, s=1\n",
    "bn.cpt(w)[1,0,:] = [0.1, 0.9]      # r=1, s=0\n",
    "bn.cpt(w)[1,1,:] = [0.01, 0.09]    # r=1, s=1\n",
    "\n"
   ]
  },
  {
   "cell_type": "code",
   "execution_count": 28,
   "metadata": {},
   "outputs": [
    {
     "data": {
      "text/html": [
       "<table style=\"border:1px solid black;\">\n",
       "<tr><th colspan='2'></th><th colspan='2' style='border:1px solid black;color:black;background-color:#808080;'><center>w</center></th></tr>\n",
       "<tr><th style='border:1px solid black;color:black;background-color:#808080'><center>r</center></th><th style='border:1px solid black;color:black;background-color:#808080'><center>s</center></th><th style='border:1px solid black;border-bottom-style: double;color:black;background-color:#BBBBBB'><center>0</center></th><th style='border:1px solid black;border-bottom-style: double;color:black;background-color:#BBBBBB'><center>1</center></th></tr>\n",
       "<tr><th style='border:1px solid black;color:black;background-color:#BBBBBB;' rowspan = '2'><center>0</center></th><th style='border:1px solid black;color:black;background-color:#BBBBBB'><center>0</center></th><td style='text-align:right;'>1.0000</td><td style='text-align:right;'>0.0000</td></tr>\n",
       "<tr><th style='border:1px solid black;color:black;background-color:#BBBBBB'><center>1</center></th><td style='text-align:right;'>0.1000</td><td style='text-align:right;'>0.9000</td></tr>\n",
       "<tr><th style='border:1px solid black;color:black;background-color:#BBBBBB;' rowspan = '2'><center>1</center></th><th style='border:1px solid black;color:black;background-color:#BBBBBB'><center>0</center></th><td style='text-align:right;'>0.1000</td><td style='text-align:right;'>0.9000</td></tr>\n",
       "<tr><th style='border:1px solid black;color:black;background-color:#BBBBBB'><center>1</center></th><td style='text-align:right;'>0.0100</td><td style='text-align:right;'>0.0900</td></tr>\n",
       "</table>"
      ],
      "text/plain": [
       "(gum::Potential<double>@0x55e6e6400c60) <w:0|s:0|r:0> :: 1 /<w:1|s:0|r:0> :: 0 /<w:0|s:1|r:0> :: 0.1 /<w:1|s:1|r:0> :: 0.9 /<w:0|s:0|r:1> :: 0.1 /<w:1|s:0|r:1> :: 0.9 /<w:0|s:1|r:1> :: 0.01 /<w:1|s:1|r:1> :: 0.09"
      ]
     },
     "execution_count": 28,
     "metadata": {},
     "output_type": "execute_result"
    }
   ],
   "source": [
    "bn.cpt(w)"
   ]
  },
  {
   "cell_type": "code",
   "execution_count": 29,
   "metadata": {},
   "outputs": [
    {
     "name": "stdout",
     "output_type": "stream",
     "text": [
      "BN{nodes: 0, arcs: 0, domainSize: 1, dim: 0}\n",
      "0\n",
      "1 2 3\n",
      "BN{nodes: 4, arcs: 0, domainSize: 16, dim: 8}\n",
      "Now adding the edges:\n",
      "BN{nodes: 4, arcs: 4, domainSize: 16, dim: 18}\n"
     ]
    }
   ],
   "source": [
    "# this example comes from:\n",
    "# http://www-desir.lip6.fr/~phw/aGrUM/docs/last/notebooks/01-tutorial.ipynb.html\n",
    "\n",
    "%matplotlib inline\n",
    "from pylab import *\n",
    "import matplotlib.pyplot as plt\n",
    "import os\n",
    "\n",
    "import pyAgrum as gum\n",
    "# import pyAgrum.lib.notebook as gnb\n",
    "\n",
    "# create an empty Bayesian Network (BN)\n",
    "bn = gum.BayesNet('WaterSprinkler')\n",
    "print (bn)\n",
    "\n",
    "# bernoulli variable to say if it's cloudy or not\n",
    "c = bn.add(gum.LabelizedVariable('c', 'cloudy?', 2)) # name, label of the variable, how many values\n",
    "# numeric id of c\n",
    "print (c)\n",
    "\n",
    "# more bernoulli variables\n",
    "s = bn.add(gum.LabelizedVariable('s', 'sprinkler?', 2))\n",
    "r = bn.add(gum.LabelizedVariable('r', 'raining?', 2))\n",
    "w = bn.add(gum.LabelizedVariable('w', 'wet grass?', 2))\n",
    "print (s,r,w)   # more numeric ids\n",
    "\n",
    "# how the BN is now\n",
    "print (bn)\n",
    "\n",
    "#    Creating the arcs    #\n",
    "\n",
    "print (\"Now adding the edges:\")\n",
    "# directed edge from c to s\n",
    "bn.addArc(c, s) \n",
    "\n",
    "for link in [(c,r), (s,w), (r,w)]:\n",
    "    bn.addArc(*link)    # a pointer for the tuples in the array!!\n",
    "\n",
    "print (bn)\n",
    "import pyAgrum.lib.notebook as gnb\n",
    "bn\n",
    "\n",
    "#   Create the probability tables   #\n",
    "\n",
    "# Conditional Probabilities Table (CPT)\n",
    "bn.cpt(c).fillWith([0.5,0.5])\n",
    "\n",
    "# fill different columns - 1st form\n",
    "bn.cpt(s)[:] = [ [0.5, 0.5], [0.9, 0.1] ]\n",
    "# 2nd form\n",
    "bn.cpt(s)[0,:] = 0.5      # equivalent to [0.5, 0.5]\n",
    "bn.cpt(s)[1,:] = [0.9, 0.1]\n",
    "\n",
    "# Returns an array with the parent nodes, and the last position is the node in the parameter\n",
    "bn.cpt(s).var_names\n",
    "\n",
    "bn.cpt(w).var_names     # [r, s, w]\n",
    "bn.cpt(w)[0,0,:] = [1, 0]     # when r=0, s=0\n",
    "bn.cpt(w)[0,1,:] = [0.1, 0.9]      # r=0, s=1\n",
    "bn.cpt(w)[1,0,:] = [0.1, 0.9]      # r=1, s=0\n",
    "bn.cpt(w)[1,1,:] = [0.01, 0.99]    # r=1, s=1\n",
    "\n",
    "\n"
   ]
  },
  {
   "cell_type": "code",
   "execution_count": 30,
   "metadata": {},
   "outputs": [
    {
     "data": {
      "text/html": [
       "<table style=\"border:1px solid black;\">\n",
       "<tr><th colspan='2'></th><th colspan='2' style='border:1px solid black;color:black;background-color:#808080;'><center>w</center></th></tr>\n",
       "<tr><th style='border:1px solid black;color:black;background-color:#808080'><center>r</center></th><th style='border:1px solid black;color:black;background-color:#808080'><center>s</center></th><th style='border:1px solid black;border-bottom-style: double;color:black;background-color:#BBBBBB'><center>0</center></th><th style='border:1px solid black;border-bottom-style: double;color:black;background-color:#BBBBBB'><center>1</center></th></tr>\n",
       "<tr><th style='border:1px solid black;color:black;background-color:#BBBBBB;' rowspan = '2'><center>0</center></th><th style='border:1px solid black;color:black;background-color:#BBBBBB'><center>0</center></th><td style='color:black;background-color:#7fff64;text-align:right;'>1.0000</td><td style='color:black;background-color:#ff7f64;text-align:right;'>0.0000</td></tr>\n",
       "<tr><th style='border:1px solid black;color:black;background-color:#BBBBBB'><center>1</center></th><td style='color:black;background-color:#f28b64;text-align:right;'>0.1000</td><td style='color:black;background-color:#8bf264;text-align:right;'>0.9000</td></tr>\n",
       "<tr><th style='border:1px solid black;color:black;background-color:#BBBBBB;' rowspan = '2'><center>1</center></th><th style='border:1px solid black;color:black;background-color:#BBBBBB'><center>0</center></th><td style='color:black;background-color:#f28b64;text-align:right;'>0.1000</td><td style='color:black;background-color:#8bf264;text-align:right;'>0.9000</td></tr>\n",
       "<tr><th style='border:1px solid black;color:black;background-color:#BBBBBB'><center>1</center></th><td style='color:black;background-color:#fd8064;text-align:right;'>0.0100</td><td style='color:black;background-color:#80fd64;text-align:right;'>0.9900</td></tr>\n",
       "</table>"
      ],
      "text/plain": [
       "(gum::Potential<double>@0x55e6e60fd320) <w:0|s:0|r:0> :: 1 /<w:1|s:0|r:0> :: 0 /<w:0|s:1|r:0> :: 0.1 /<w:1|s:1|r:0> :: 0.9 /<w:0|s:0|r:1> :: 0.1 /<w:1|s:0|r:1> :: 0.9 /<w:0|s:1|r:1> :: 0.01 /<w:1|s:1|r:1> :: 0.99"
      ]
     },
     "execution_count": 30,
     "metadata": {},
     "output_type": "execute_result"
    }
   ],
   "source": [
    "bn.cpt(w)"
   ]
  },
  {
   "cell_type": "code",
   "execution_count": 31,
   "metadata": {},
   "outputs": [],
   "source": [
    "bn.cpt(r)[{c: 0}] = [0.8, 0.2]"
   ]
  },
  {
   "cell_type": "code",
   "execution_count": 32,
   "metadata": {},
   "outputs": [
    {
     "data": {
      "text/html": [
       "<table style=\"border:1px solid black;\">\n",
       "<tr><th colspan='1'></th><th colspan='2' style='border:1px solid black;color:black;background-color:#808080;'><center>r</center></th></tr>\n",
       "<tr><th style='border:1px solid black;color:black;background-color:#808080'><center>c</center></th><th style='border:1px solid black;border-bottom-style: double;color:black;background-color:#BBBBBB'><center>0</center></th><th style='border:1px solid black;border-bottom-style: double;color:black;background-color:#BBBBBB'><center>1</center></th></tr>\n",
       "<tr><th style='border:1px solid black;color:black;background-color:#BBBBBB'><center>0</center></th><td style='color:black;background-color:#98e564;text-align:right;'>0.8000</td><td style='color:black;background-color:#e59864;text-align:right;'>0.2000</td></tr>\n",
       "<tr><th style='border:1px solid black;color:black;background-color:#BBBBBB'><center>1</center></th><td style='color:black;background-color:#98e564;text-align:right;'>0.8000</td><td style='color:black;background-color:#e59864;text-align:right;'>0.2000</td></tr>\n",
       "</table>"
      ],
      "text/plain": [
       "(gum::Potential<double>@0x55e6e6326860) <r:0|c:0> :: 0.8 /<r:1|c:0> :: 0.2 /<r:0|c:1> :: 0.8 /<r:1|c:1> :: 0.2"
      ]
     },
     "execution_count": 32,
     "metadata": {},
     "output_type": "execute_result"
    }
   ],
   "source": [
    "bn.cpt(r)"
   ]
  },
  {
   "cell_type": "code",
   "execution_count": 33,
   "metadata": {},
   "outputs": [
    {
     "data": {
      "text/html": [
       "<table style=\"border:1px solid black;\">\n",
       "<tr><th colspan='1'></th><th colspan='2' style='border:1px solid black;color:black;background-color:#808080;'><center>r</center></th></tr>\n",
       "<tr><th style='border:1px solid black;color:black;background-color:#808080'><center>c</center></th><th style='border:1px solid black;border-bottom-style: double;color:black;background-color:#BBBBBB'><center>0</center></th><th style='border:1px solid black;border-bottom-style: double;color:black;background-color:#BBBBBB'><center>1</center></th></tr>\n",
       "<tr><th style='border:1px solid black;color:black;background-color:#BBBBBB'><center>0</center></th><td style='color:black;background-color:#e59864;text-align:right;'>0.2000</td><td style='color:black;background-color:#98e564;text-align:right;'>0.8000</td></tr>\n",
       "<tr><th style='border:1px solid black;color:black;background-color:#BBBBBB'><center>1</center></th><td style='color:black;background-color:#e59864;text-align:right;'>0.2000</td><td style='color:black;background-color:#98e564;text-align:right;'>0.8000</td></tr>\n",
       "</table>"
      ],
      "text/plain": [
       "(gum::Potential<double>@0x55e6e6326860) <r:0|c:0> :: 0.2 /<r:1|c:0> :: 0.8 /<r:0|c:1> :: 0.2 /<r:1|c:1> :: 0.8"
      ]
     },
     "execution_count": 33,
     "metadata": {},
     "output_type": "execute_result"
    }
   ],
   "source": [
    "bn.cpt(r)[{c: 0}] = [0.8, 0.2]\n",
    "bn.cpt(r)[{c: 1}] = [0.2, 0.8]\n",
    "bn.cpt(r)"
   ]
  },
  {
   "cell_type": "code",
   "execution_count": 34,
   "metadata": {},
   "outputs": [
    {
     "data": {
      "text/html": [
       "<table style=\"border:1px solid black;\">\n",
       "<tr><th colspan='1'></th><th colspan='2' style='border:1px solid black;color:black;background-color:#808080;'><center>r</center></th></tr>\n",
       "<tr><th style='border:1px solid black;color:black;background-color:#808080'><center>c</center></th><th style='border:1px solid black;border-bottom-style: double;color:black;background-color:#BBBBBB'><center>0</center></th><th style='border:1px solid black;border-bottom-style: double;color:black;background-color:#BBBBBB'><center>1</center></th></tr>\n",
       "<tr><th style='border:1px solid black;color:black;background-color:#BBBBBB'><center>0</center></th><td style='color:black;background-color:#98e564;text-align:right;'>0.8000</td><td style='color:black;background-color:#e59864;text-align:right;'>0.2000</td></tr>\n",
       "<tr><th style='border:1px solid black;color:black;background-color:#BBBBBB'><center>1</center></th><td style='color:black;background-color:#e59864;text-align:right;'>0.2000</td><td style='color:black;background-color:#98e564;text-align:right;'>0.8000</td></tr>\n",
       "</table>"
      ],
      "text/plain": [
       "(gum::Potential<double>@0x55e6e6326860) <r:0|c:0> :: 0.8 /<r:1|c:0> :: 0.2 /<r:0|c:1> :: 0.2 /<r:1|c:1> :: 0.8"
      ]
     },
     "execution_count": 34,
     "metadata": {},
     "output_type": "execute_result"
    }
   ],
   "source": [
    "bn.cpt(r)[{'c':0}]=[0.8,0.2]\n",
    "bn.cpt(r)[{'c':1}]=[0.2,0.8]\n",
    "bn.cpt(r)"
   ]
  },
  {
   "cell_type": "code",
   "execution_count": 35,
   "metadata": {},
   "outputs": [
    {
     "data": {
      "text/html": [
       "<table style=\"border:1px solid black;\">\n",
       "<tr><th colspan='1'></th><th colspan='2' style='border:1px solid black;color:black;background-color:#808080;'><center>r</center></th></tr>\n",
       "<tr><th style='border:1px solid black;color:black;background-color:#808080'><center>c</center></th><th style='border:1px solid black;border-bottom-style: double;color:black;background-color:#BBBBBB'><center>0</center></th><th style='border:1px solid black;border-bottom-style: double;color:black;background-color:#BBBBBB'><center>1</center></th></tr>\n",
       "<tr><th style='border:1px solid black;color:black;background-color:#BBBBBB'><center>0</center></th><td style='color:black;background-color:#98e564;text-align:right;'>0.8000</td><td style='color:black;background-color:#e59864;text-align:right;'>0.2000</td></tr>\n",
       "<tr><th style='border:1px solid black;color:black;background-color:#BBBBBB'><center>1</center></th><td style='color:black;background-color:#e59864;text-align:right;'>0.2000</td><td style='color:black;background-color:#98e564;text-align:right;'>0.8000</td></tr>\n",
       "</table>"
      ],
      "text/plain": [
       "(gum::Potential<double>@0x55e6e6326860) <r:0|c:0> :: 0.8 /<r:1|c:0> :: 0.2 /<r:0|c:1> :: 0.2 /<r:1|c:1> :: 0.8"
      ]
     },
     "execution_count": 35,
     "metadata": {},
     "output_type": "execute_result"
    }
   ],
   "source": [
    "bn.cpt(r)[{'c': 0}] = [0.8, 0.2]\n",
    "bn.cpt(r)[{'c': 1}] = [0.2, 0.8]\n",
    "bn.cpt(r)"
   ]
  },
  {
   "cell_type": "code",
   "execution_count": 37,
   "metadata": {},
   "outputs": [
    {
     "data": {
      "text/html": [
       "<table style=\"border:1px solid black;\">\n",
       "<tr><th colspan='1'></th><th colspan='2' style='border:1px solid black;color:black;background-color:#808080;'><center>r</center></th></tr>\n",
       "<tr><th style='border:1px solid black;color:black;background-color:#808080'><center>c</center></th><th style='border:1px solid black;border-bottom-style: double;color:black;background-color:#BBBBBB'><center>0</center></th><th style='border:1px solid black;border-bottom-style: double;color:black;background-color:#BBBBBB'><center>1</center></th></tr>\n",
       "<tr><th style='border:1px solid black;color:black;background-color:#BBBBBB'><center>0</center></th><td style='color:black;background-color:#98e564;text-align:right;'>0.8000</td><td style='color:black;background-color:#e59864;text-align:right;'>0.2000</td></tr>\n",
       "<tr><th style='border:1px solid black;color:black;background-color:#BBBBBB'><center>1</center></th><td style='color:black;background-color:#e59864;text-align:right;'>0.2000</td><td style='color:black;background-color:#98e564;text-align:right;'>0.8000</td></tr>\n",
       "</table>"
      ],
      "text/plain": [
       "(gum::Potential<double>@0x55e6e6326860) <r:0|c:0> :: 0.8 /<r:1|c:0> :: 0.2 /<r:0|c:1> :: 0.2 /<r:1|c:1> :: 0.8"
      ]
     },
     "execution_count": 37,
     "metadata": {},
     "output_type": "execute_result"
    }
   ],
   "source": [
    "bn.cpt(r)[{'c': 0}] = [0.8, 0.2]\n",
    "bn.cpt(r)[{'c': 1}] = [0.2, 0.8]\n",
    "bn.cpt(r)"
   ]
  },
  {
   "cell_type": "code",
   "execution_count": 38,
   "metadata": {},
   "outputs": [
    {
     "name": "stdout",
     "output_type": "stream",
     "text": [
      "bif|dsl|net|bifxml|o3prm|uai\n"
     ]
    }
   ],
   "source": [
    "print(gum.availableBNExts())"
   ]
  },
  {
   "cell_type": "code",
   "execution_count": 39,
   "metadata": {},
   "outputs": [
    {
     "name": "stdout",
     "output_type": "stream",
     "text": [
      "BN{nodes: 0, arcs: 0, domainSize: 1, dim: 0}\n",
      "0\n",
      "1 2 3\n",
      "BN{nodes: 4, arcs: 0, domainSize: 16, dim: 8}\n",
      "Now adding the edges:\n",
      "BN{nodes: 4, arcs: 4, domainSize: 16, dim: 18}\n"
     ]
    },
    {
     "ename": "IOError",
     "evalue": "[pyAgrum] I/O Error: Stream states flags are not all unset.",
     "output_type": "error",
     "traceback": [
      "\u001b[0;31m-----------------------------------------------------------------------\u001b[0m",
      "\u001b[0;31mIOError\u001b[0m                               Traceback (most recent call last)",
      "\u001b[0;32m<ipython-input-39-cde760e77994>\u001b[0m in \u001b[0;36m<module>\u001b[0;34m\u001b[0m\n\u001b[1;32m     75\u001b[0m \u001b[0;31m# out: bif|dsl|net|bifxml|o3prm|uai\u001b[0m\u001b[0;34m\u001b[0m\u001b[0;34m\u001b[0m\u001b[0;34m\u001b[0m\u001b[0m\n\u001b[1;32m     76\u001b[0m \u001b[0;34m\u001b[0m\u001b[0m\n\u001b[0;32m---> 77\u001b[0;31m \u001b[0mgum\u001b[0m\u001b[0;34m.\u001b[0m\u001b[0msaveBN\u001b[0m\u001b[0;34m(\u001b[0m\u001b[0mbn\u001b[0m\u001b[0;34m,\u001b[0m \u001b[0mos\u001b[0m\u001b[0;34m.\u001b[0m\u001b[0mpath\u001b[0m\u001b[0;34m.\u001b[0m\u001b[0mjoin\u001b[0m\u001b[0;34m(\u001b[0m\u001b[0;34m\"out\"\u001b[0m\u001b[0;34m,\u001b[0m\u001b[0;34m\"WaterSprinkler.bif\"\u001b[0m\u001b[0;34m)\u001b[0m\u001b[0;34m)\u001b[0m\u001b[0;34m\u001b[0m\u001b[0;34m\u001b[0m\u001b[0m\n\u001b[0m",
      "\u001b[0;32m~/anaconda3/lib/python3.7/site-packages/pyAgrum/functions.py\u001b[0m in \u001b[0;36msaveBN\u001b[0;34m(bn, filename)\u001b[0m\n\u001b[1;32m    121\u001b[0m     \u001b[0mextension\u001b[0m\u001b[0;34m=\u001b[0m\u001b[0mfilename\u001b[0m\u001b[0;34m.\u001b[0m\u001b[0msplit\u001b[0m\u001b[0;34m(\u001b[0m\u001b[0;34m'.'\u001b[0m\u001b[0;34m)\u001b[0m\u001b[0;34m[\u001b[0m\u001b[0;34m-\u001b[0m\u001b[0;36m1\u001b[0m\u001b[0;34m]\u001b[0m\u001b[0;34m.\u001b[0m\u001b[0mupper\u001b[0m\u001b[0;34m(\u001b[0m\u001b[0;34m)\u001b[0m\u001b[0;34m\u001b[0m\u001b[0;34m\u001b[0m\u001b[0m\n\u001b[1;32m    122\u001b[0m     \u001b[0;32mif\u001b[0m \u001b[0mextension\u001b[0m\u001b[0;34m==\u001b[0m\u001b[0;34m\"BIF\"\u001b[0m\u001b[0;34m:\u001b[0m\u001b[0;34m\u001b[0m\u001b[0;34m\u001b[0m\u001b[0m\n\u001b[0;32m--> 123\u001b[0;31m         \u001b[0mbn\u001b[0m\u001b[0;34m.\u001b[0m\u001b[0msaveBIF\u001b[0m\u001b[0;34m(\u001b[0m\u001b[0mfilename\u001b[0m\u001b[0;34m)\u001b[0m\u001b[0;34m\u001b[0m\u001b[0;34m\u001b[0m\u001b[0m\n\u001b[0m\u001b[1;32m    124\u001b[0m     \u001b[0;32melif\u001b[0m \u001b[0mextension\u001b[0m\u001b[0;34m==\u001b[0m\u001b[0;34m\"BIFXML\"\u001b[0m\u001b[0;34m:\u001b[0m\u001b[0;34m\u001b[0m\u001b[0;34m\u001b[0m\u001b[0m\n\u001b[1;32m    125\u001b[0m         \u001b[0mbn\u001b[0m\u001b[0;34m.\u001b[0m\u001b[0msaveBIFXML\u001b[0m\u001b[0;34m(\u001b[0m\u001b[0mfilename\u001b[0m\u001b[0;34m)\u001b[0m\u001b[0;34m\u001b[0m\u001b[0;34m\u001b[0m\u001b[0m\n",
      "\u001b[0;32m~/anaconda3/lib/python3.7/site-packages/pyAgrum/pyAgrum.py\u001b[0m in \u001b[0;36msaveBIF\u001b[0;34m(self, name)\u001b[0m\n\u001b[1;32m  10436\u001b[0m \u001b[0;34m\u001b[0m\u001b[0m\n\u001b[1;32m  10437\u001b[0m         \"\"\"\n\u001b[0;32m> 10438\u001b[0;31m         \u001b[0;32mreturn\u001b[0m \u001b[0m_pyAgrum\u001b[0m\u001b[0;34m.\u001b[0m\u001b[0mBayesNet_saveBIF\u001b[0m\u001b[0;34m(\u001b[0m\u001b[0mself\u001b[0m\u001b[0;34m,\u001b[0m \u001b[0mname\u001b[0m\u001b[0;34m)\u001b[0m\u001b[0;34m\u001b[0m\u001b[0;34m\u001b[0m\u001b[0m\n\u001b[0m\u001b[1;32m  10439\u001b[0m \u001b[0;34m\u001b[0m\u001b[0m\n\u001b[1;32m  10440\u001b[0m     \u001b[0;32mdef\u001b[0m \u001b[0mloadDSL\u001b[0m\u001b[0;34m(\u001b[0m\u001b[0mself\u001b[0m\u001b[0;34m,\u001b[0m \u001b[0;34m*\u001b[0m\u001b[0margs\u001b[0m\u001b[0;34m)\u001b[0m \u001b[0;34m->\u001b[0m \u001b[0;34m\"std::string\"\u001b[0m\u001b[0;34m:\u001b[0m\u001b[0;34m\u001b[0m\u001b[0;34m\u001b[0m\u001b[0m\n",
      "\u001b[0;31mIOError\u001b[0m: [pyAgrum] I/O Error: Stream states flags are not all unset."
     ]
    }
   ],
   "source": [
    "# this example comes from:\n",
    "# http://www-desir.lip6.fr/~phw/aGrUM/docs/last/notebooks/01-tutorial.ipynb.html\n",
    "\n",
    "%matplotlib inline\n",
    "from pylab import *\n",
    "import matplotlib.pyplot as plt\n",
    "import os\n",
    "\n",
    "import pyAgrum as gum\n",
    "# import pyAgrum.lib.notebook as gnb\n",
    "\n",
    "# create an empty Bayesian Network (BN)\n",
    "bn = gum.BayesNet('WaterSprinkler')\n",
    "print (bn)\n",
    "\n",
    "# bernoulli variable to say if it's cloudy or not\n",
    "c = bn.add(gum.LabelizedVariable('c', 'cloudy?', 2)) # name, label of the variable, how many values\n",
    "# numeric id of c\n",
    "print (c)\n",
    "\n",
    "# more bernoulli variables\n",
    "s = bn.add(gum.LabelizedVariable('s', 'sprinkler?', 2))\n",
    "r = bn.add(gum.LabelizedVariable('r', 'raining?', 2))\n",
    "w = bn.add(gum.LabelizedVariable('w', 'wet grass?', 2))\n",
    "print (s,r,w)   # more numeric ids\n",
    "\n",
    "# how the BN is now\n",
    "print (bn)\n",
    "\n",
    "#    Creating the arcs    #\n",
    "\n",
    "print (\"Now adding the edges:\")\n",
    "# directed edge from c to s\n",
    "bn.addArc(c, s) \n",
    "\n",
    "for link in [(c,r), (s,w), (r,w)]:\n",
    "    bn.addArc(*link)    # a pointer for the tuples in the array!!\n",
    "\n",
    "print (bn)\n",
    "import pyAgrum.lib.notebook as gnb\n",
    "bn\n",
    "\n",
    "#   Create the probability tables   #\n",
    "\n",
    "# Conditional Probabilities Table (CPT)\n",
    "bn.cpt(c).fillWith([0.5,0.5])\n",
    "\n",
    "# fill different columns - 1st form\n",
    "bn.cpt(s)[:] = [ [0.5, 0.5], [0.9, 0.1] ]\n",
    "# 2nd form\n",
    "bn.cpt(s)[0,:] = 0.5      # equivalent to [0.5, 0.5]\n",
    "bn.cpt(s)[1,:] = [0.9, 0.1]\n",
    "\n",
    "# Returns an array with the parent nodes, and the last position is the node in the parameter\n",
    "bn.cpt(s).var_names\n",
    "\n",
    "bn.cpt(w).var_names     # [r, s, w]\n",
    "bn.cpt(w)[0,0,:] = [1, 0]     # when r=0, s=0\n",
    "bn.cpt(w)[0,1,:] = [0.1, 0.9]      # r=0, s=1\n",
    "bn.cpt(w)[1,0,:] = [0.1, 0.9]      # r=1, s=0\n",
    "bn.cpt(w)[1,1,:] = [0.01, 0.99]    # r=1, s=1\n",
    "\n",
    "# use dictionaries to introduce data!!  -- it facilitates and avoids common errors\n",
    "\n",
    "bn.cpt(r)[{'c': 0}] = [0.8, 0.2]\n",
    "bn.cpt(r)[{'c': 1}] = [0.2, 0.8]\n",
    "# use the name (string) of the variable 'c' , do not use the variable itself c (it won't work)\n",
    "\n",
    "#   NOW YOUR BN IS COMPLETE!!   #   \n",
    "\n",
    "# ------------------------------------------\n",
    "\n",
    "# formats that we can save our bayesian network\n",
    "# print(gum.availableBNExts())\n",
    "# out: bif|dsl|net|bifxml|o3prm|uai\n",
    "\n",
    "gum.saveBN(bn, os.path.join(\"out\",\"WaterSprinkler.bif\"))"
   ]
  },
  {
   "cell_type": "code",
   "execution_count": 42,
   "metadata": {},
   "outputs": [],
   "source": [
    "gum.saveBN(bn, \"WaterSprinkler.bif\")"
   ]
  },
  {
   "cell_type": "code",
   "execution_count": 41,
   "metadata": {},
   "outputs": [
    {
     "data": {
      "text/html": [
       "<table style=\"border:1px solid black;\">\n",
       "<tr style='border:1px solid black;color:black;background-color:#808080'><th colspan='2'><center>c</center></th></tr>\n",
       "<tr><th style='border:1px solid black;border-bottom-style: double;color:black;background-color:#BBBBBB'><center>0</center></th><th style='border:1px solid black;border-bottom-style: double;color:black;background-color:#BBBBBB'><center>1</center></th></tr>\n",
       "<tr><td style='color:black;background-color:#bfbf64;text-align:right;'>0.5000</td><td style='color:black;background-color:#bfbf64;text-align:right;'>0.5000</td></tr>\n",
       "</table>"
      ],
      "text/plain": [
       "(gum::Potential<double>@0x55e6e60fd320) <c:0> :: 0.5 /<c:1> :: 0.5"
      ]
     },
     "execution_count": 41,
     "metadata": {},
     "output_type": "execute_result"
    }
   ],
   "source": [
    "bn.cpt(c).fillWith([0.5,0.5])"
   ]
  },
  {
   "cell_type": "code",
   "execution_count": 43,
   "metadata": {},
   "outputs": [],
   "source": [
    "bn2 = gum.loadBN(\"WaterSprinkler.bif\")"
   ]
  },
  {
   "cell_type": "code",
   "execution_count": 44,
   "metadata": {},
   "outputs": [
    {
     "data": {
      "text/html": [
       "<svg height=\"188pt\" viewBox=\"0.00 0.00 134.00 188.00\" width=\"134pt\" xmlns=\"http://www.w3.org/2000/svg\" xmlns:xlink=\"http://www.w3.org/1999/xlink\">\n",
       "<g class=\"graph\" id=\"graph0\" transform=\"scale(1 1) rotate(0) translate(4 184)\">\n",
       "<title>G</title>\n",
       "<!-- c -->\n",
       "<g class=\"node\" id=\"node1\">\n",
       "<title>c</title>\n",
       "<g id=\"a_node1\"><a xlink:title=\"(0) c\">\n",
       "<ellipse cx=\"63\" cy=\"-162\" fill=\"#404040\" rx=\"27\" ry=\"18\" stroke=\"#000000\"/>\n",
       "<text fill=\"#ffffff\" font-family=\"Times,serif\" font-size=\"14.00\" text-anchor=\"middle\" x=\"63\" y=\"-158.3\">c</text>\n",
       "</a>\n",
       "</g>\n",
       "</g>\n",
       "<!-- s -->\n",
       "<g class=\"node\" id=\"node2\">\n",
       "<title>s</title>\n",
       "<g id=\"a_node2\"><a xlink:title=\"(1) s\">\n",
       "<ellipse cx=\"27\" cy=\"-90\" fill=\"#404040\" rx=\"27\" ry=\"18\" stroke=\"#000000\"/>\n",
       "<text fill=\"#ffffff\" font-family=\"Times,serif\" font-size=\"14.00\" text-anchor=\"middle\" x=\"27\" y=\"-86.3\">s</text>\n",
       "</a>\n",
       "</g>\n",
       "</g>\n",
       "<!-- c&#45;&gt;s -->\n",
       "<g class=\"edge\" id=\"edge1\">\n",
       "<title>c-&gt;s</title>\n",
       "<g id=\"a_edge1\"><a xlink:title=\"(0, 1) : \">\n",
       "<path d=\"M54.2854,-144.5708C50.0403,-136.0807 44.8464,-125.6929 40.1337,-116.2674\" fill=\"none\" stroke=\"#4a4a4a\"/>\n",
       "<polygon fill=\"#4a4a4a\" points=\"43.237,-114.6477 35.6343,-107.2687 36.976,-117.7782 43.237,-114.6477\" stroke=\"#4a4a4a\"/>\n",
       "</a>\n",
       "</g>\n",
       "</g>\n",
       "<!-- r -->\n",
       "<g class=\"node\" id=\"node3\">\n",
       "<title>r</title>\n",
       "<g id=\"a_node3\"><a xlink:title=\"(2) r\">\n",
       "<ellipse cx=\"99\" cy=\"-90\" fill=\"#404040\" rx=\"27\" ry=\"18\" stroke=\"#000000\"/>\n",
       "<text fill=\"#ffffff\" font-family=\"Times,serif\" font-size=\"14.00\" text-anchor=\"middle\" x=\"99\" y=\"-86.3\">r</text>\n",
       "</a>\n",
       "</g>\n",
       "</g>\n",
       "<!-- c&#45;&gt;r -->\n",
       "<g class=\"edge\" id=\"edge4\">\n",
       "<title>c-&gt;r</title>\n",
       "<g id=\"a_edge4\"><a xlink:title=\"(0, 2) : \">\n",
       "<path d=\"M71.7146,-144.5708C75.9597,-136.0807 81.1536,-125.6929 85.8663,-116.2674\" fill=\"none\" stroke=\"#4a4a4a\"/>\n",
       "<polygon fill=\"#4a4a4a\" points=\"89.024,-117.7782 90.3657,-107.2687 82.763,-114.6477 89.024,-117.7782\" stroke=\"#4a4a4a\"/>\n",
       "</a>\n",
       "</g>\n",
       "</g>\n",
       "<!-- w -->\n",
       "<g class=\"node\" id=\"node4\">\n",
       "<title>w</title>\n",
       "<g id=\"a_node4\"><a xlink:title=\"(3) w\">\n",
       "<ellipse cx=\"63\" cy=\"-18\" fill=\"#404040\" rx=\"27\" ry=\"18\" stroke=\"#000000\"/>\n",
       "<text fill=\"#ffffff\" font-family=\"Times,serif\" font-size=\"14.00\" text-anchor=\"middle\" x=\"63\" y=\"-14.3\">w</text>\n",
       "</a>\n",
       "</g>\n",
       "</g>\n",
       "<!-- s&#45;&gt;w -->\n",
       "<g class=\"edge\" id=\"edge2\">\n",
       "<title>s-&gt;w</title>\n",
       "<g id=\"a_edge2\"><a xlink:title=\"(1, 3) : \">\n",
       "<path d=\"M35.7146,-72.5708C39.9597,-64.0807 45.1536,-53.6929 49.8663,-44.2674\" fill=\"none\" stroke=\"#4a4a4a\"/>\n",
       "<polygon fill=\"#4a4a4a\" points=\"53.024,-45.7782 54.3657,-35.2687 46.763,-42.6477 53.024,-45.7782\" stroke=\"#4a4a4a\"/>\n",
       "</a>\n",
       "</g>\n",
       "</g>\n",
       "<!-- r&#45;&gt;w -->\n",
       "<g class=\"edge\" id=\"edge3\">\n",
       "<title>r-&gt;w</title>\n",
       "<g id=\"a_edge3\"><a xlink:title=\"(2, 3) : \">\n",
       "<path d=\"M90.2854,-72.5708C86.0403,-64.0807 80.8464,-53.6929 76.1337,-44.2674\" fill=\"none\" stroke=\"#4a4a4a\"/>\n",
       "<polygon fill=\"#4a4a4a\" points=\"79.237,-42.6477 71.6343,-35.2687 72.976,-45.7782 79.237,-42.6477\" stroke=\"#4a4a4a\"/>\n",
       "</a>\n",
       "</g>\n",
       "</g>\n",
       "</g>\n",
       "</svg>"
      ],
      "text/plain": [
       "(gum::BayesNet<double>@0x55e6e6a8fb20) BN{nodes: 4, arcs: 4, domainSize: 16, dim: 18}"
      ]
     },
     "execution_count": 44,
     "metadata": {},
     "output_type": "execute_result"
    }
   ],
   "source": [
    "bn2"
   ]
  },
  {
   "cell_type": "code",
   "execution_count": 45,
   "metadata": {},
   "outputs": [
    {
     "name": "stdout",
     "output_type": "stream",
     "text": [
      "BN{nodes: 4, arcs: 4, domainSize: 16, dim: 18}\n"
     ]
    }
   ],
   "source": [
    "print(bn2)"
   ]
  },
  {
   "cell_type": "code",
   "execution_count": null,
   "metadata": {},
   "outputs": [],
   "source": []
  }
 ],
 "metadata": {
  "kernelspec": {
   "display_name": "Python 3",
   "language": "python",
   "name": "python3"
  },
  "language_info": {
   "codemirror_mode": {
    "name": "ipython",
    "version": 3
   },
   "file_extension": ".py",
   "mimetype": "text/x-python",
   "name": "python",
   "nbconvert_exporter": "python",
   "pygments_lexer": "ipython3",
   "version": "3.7.3"
  }
 },
 "nbformat": 4,
 "nbformat_minor": 2
}
